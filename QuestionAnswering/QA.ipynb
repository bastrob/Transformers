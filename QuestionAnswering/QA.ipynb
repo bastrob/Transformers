{
 "cells": [
  {
   "cell_type": "code",
   "execution_count": 1,
   "id": "31aecc87-fc01-4bad-b4a5-f32b77f87750",
   "metadata": {},
   "outputs": [
    {
     "name": "stderr",
     "output_type": "stream",
     "text": [
      "C:\\Users\\BarkY\\anaconda3\\envs\\pytorch-env\\lib\\site-packages\\tqdm\\auto.py:21: TqdmWarning: IProgress not found. Please update jupyter and ipywidgets. See https://ipywidgets.readthedocs.io/en/stable/user_install.html\n",
      "  from .autonotebook import tqdm as notebook_tqdm\n"
     ]
    },
    {
     "data": {
      "text/plain": [
       "['books', 'electronics', 'grocery', 'movies', 'restaurants', 'tripadvisor']"
      ]
     },
     "execution_count": 1,
     "metadata": {},
     "output_type": "execute_result"
    }
   ],
   "source": [
    "from datasets import get_dataset_config_names\n",
    "\n",
    "domains = get_dataset_config_names(\"subjqa\")\n",
    "domains"
   ]
  },
  {
   "cell_type": "code",
   "execution_count": 2,
   "id": "a4032bec-adfe-44a7-b636-9c5ee3974740",
   "metadata": {},
   "outputs": [
    {
     "name": "stderr",
     "output_type": "stream",
     "text": [
      "Found cached dataset subjqa (C:/Users/BarkY/.cache/huggingface/datasets/subjqa/electronics/1.1.0/2c12e496c4c675ab4a57ffb5d3f538f2e7b89793956e50da37126393ce23b6c6)\n",
      "100%|███████████████████████████████████████████████████████████████████████████████████| 3/3 [00:00<00:00, 105.00it/s]\n"
     ]
    }
   ],
   "source": [
    "from datasets import load_dataset\n",
    "\n",
    "subjqa = load_dataset(\"subjqa\", name=\"electronics\")"
   ]
  },
  {
   "cell_type": "code",
   "execution_count": 3,
   "id": "fd2dbe10-c4bf-46fe-9229-adf8755dcaf7",
   "metadata": {},
   "outputs": [
    {
     "name": "stdout",
     "output_type": "stream",
     "text": [
      "{'text': ['Bass is weak as expected', 'Bass is weak as expected, even with EQ adjusted up'], 'answer_start': [1302, 1302], 'answer_subj_level': [1, 1], 'ans_subj_score': [0.5083333253860474, 0.5083333253860474], 'is_ans_subjective': [True, True]}\n"
     ]
    }
   ],
   "source": [
    "print(subjqa[\"train\"][\"answers\"][1])"
   ]
  },
  {
   "cell_type": "code",
   "execution_count": 4,
   "id": "ca9f49cc-061c-47a5-9502-e473dece295f",
   "metadata": {},
   "outputs": [
    {
     "name": "stdout",
     "output_type": "stream",
     "text": [
      "Number of questions in train: 1295\n",
      "Number of questions in test: 358\n",
      "Number of questions in validation: 255\n"
     ]
    }
   ],
   "source": [
    "import pandas as pd\n",
    "\n",
    "dfs = {split: dset.to_pandas() for split, dset in subjqa.flatten().items()}\n",
    "\n",
    "for split, df in dfs.items():\n",
    "    print(f\"Number of questions in {split}: {df['id'].nunique()}\")"
   ]
  },
  {
   "cell_type": "code",
   "execution_count": 5,
   "id": "585a07f0-cfb5-4f3e-b94f-c206b7ea7989",
   "metadata": {},
   "outputs": [
    {
     "data": {
      "text/html": [
       "<div>\n",
       "<style scoped>\n",
       "    .dataframe tbody tr th:only-of-type {\n",
       "        vertical-align: middle;\n",
       "    }\n",
       "\n",
       "    .dataframe tbody tr th {\n",
       "        vertical-align: top;\n",
       "    }\n",
       "\n",
       "    .dataframe thead th {\n",
       "        text-align: right;\n",
       "    }\n",
       "</style>\n",
       "<table border=\"1\" class=\"dataframe\">\n",
       "  <thead>\n",
       "    <tr style=\"text-align: right;\">\n",
       "      <th></th>\n",
       "      <th>title</th>\n",
       "      <th>question</th>\n",
       "      <th>answers.text</th>\n",
       "      <th>answers.answer_start</th>\n",
       "      <th>context</th>\n",
       "    </tr>\n",
       "  </thead>\n",
       "  <tbody>\n",
       "    <tr>\n",
       "      <th>791</th>\n",
       "      <td>B005DKZTMG</td>\n",
       "      <td>Does the keyboard lightweight?</td>\n",
       "      <td>[this keyboard is compact]</td>\n",
       "      <td>[215]</td>\n",
       "      <td>I really like this keyboard.  I give it 4 star...</td>\n",
       "    </tr>\n",
       "    <tr>\n",
       "      <th>1159</th>\n",
       "      <td>B00AAIPT76</td>\n",
       "      <td>How is the battery?</td>\n",
       "      <td>[]</td>\n",
       "      <td>[]</td>\n",
       "      <td>I bought this after the first spare gopro batt...</td>\n",
       "    </tr>\n",
       "  </tbody>\n",
       "</table>\n",
       "</div>"
      ],
      "text/plain": [
       "           title                        question                answers.text  \\\n",
       "791   B005DKZTMG  Does the keyboard lightweight?  [this keyboard is compact]   \n",
       "1159  B00AAIPT76             How is the battery?                          []   \n",
       "\n",
       "     answers.answer_start                                            context  \n",
       "791                 [215]  I really like this keyboard.  I give it 4 star...  \n",
       "1159                   []  I bought this after the first spare gopro batt...  "
      ]
     },
     "execution_count": 5,
     "metadata": {},
     "output_type": "execute_result"
    }
   ],
   "source": [
    "qa_cols = [\"title\", \"question\", \"answers.text\",\n",
    "           \"answers.answer_start\", \"context\"]\n",
    "sample_df = dfs[\"train\"][qa_cols].sample(2, random_state=7)\n",
    "sample_df"
   ]
  },
  {
   "cell_type": "code",
   "execution_count": 6,
   "id": "2e0bc438-f496-4476-9751-41c8018e5519",
   "metadata": {},
   "outputs": [
    {
     "data": {
      "text/plain": [
       "'this keyboard is compact'"
      ]
     },
     "execution_count": 6,
     "metadata": {},
     "output_type": "execute_result"
    }
   ],
   "source": [
    "start_idx = sample_df[\"answers.answer_start\"].iloc[0][0]\n",
    "end_idx = start_idx + len(sample_df[\"answers.text\"].iloc[0][0])\n",
    "sample_df[\"context\"].iloc[0][start_idx:end_idx]"
   ]
  },
  {
   "cell_type": "code",
   "execution_count": 7,
   "id": "cba99825-047c-4629-b707-67c427edcc18",
   "metadata": {},
   "outputs": [
    {
     "data": {
      "image/png": "[encoded data removed]",
      "text/plain": [
       "<Figure size 640x480 with 1 Axes>"
      ]
     },
     "metadata": {},
     "output_type": "display_data"
    }
   ],
   "source": [
    "import matplotlib.pyplot as plt\n",
    "\n",
    "counts = {}\n",
    "question_types = [\"What\", \"How\", \"Is\", \"Does\", \"Do\", \"Was\", \"Where\", \"Why\"]\n",
    "\n",
    "for q in question_types:\n",
    "    counts[q] = dfs[\"train\"][\"question\"].str.startswith(q).value_counts()[True]\n",
    "\n",
    "pd.Series(counts).sort_values().plot.barh()\n",
    "plt.title(\"Frequency of Question Types\")\n",
    "plt.show()"
   ]
  },
  {
   "cell_type": "code",
   "execution_count": 8,
   "id": "a535e671-9d4b-4663-a4ce-3a9975866c64",
   "metadata": {},
   "outputs": [
    {
     "name": "stdout",
     "output_type": "stream",
     "text": [
      "How is the camera?\n",
      "How do you like the control?\n",
      "How fast is the charger?\n",
      "What is direction?\n",
      "What is the quality of the construction of the bag?\n",
      "What is your impression of the product?\n",
      "Is this how zoom works?\n",
      "Is sound clear?\n",
      "Is it a wireless keyboard?\n"
     ]
    }
   ],
   "source": [
    "for question_type in [\"How\", \"What\", \"Is\"]:\n",
    "    for question in (\n",
    "        dfs[\"train\"][dfs[\"train\"].question.str.startswith(question_type)]\n",
    "            .sample(n=3, random_state=42)['question']):\n",
    "        print(question)"
   ]
  },
  {
   "cell_type": "markdown",
   "id": "83558089-241d-4a5a-966d-2dad876ae03d",
   "metadata": {},
   "source": [
    "## Tokenizing text for QA"
   ]
  },
  {
   "cell_type": "code",
   "execution_count": 9,
   "id": "e44dc81a-45b8-452c-96e0-3c76816dda6e",
   "metadata": {},
   "outputs": [],
   "source": [
    "from transformers import AutoTokenizer\n",
    "\n",
    "model_ckpt = \"deepset/minilm-uncased-squad2\"\n",
    "tokenizer = AutoTokenizer.from_pretrained(model_ckpt)"
   ]
  },
  {
   "cell_type": "code",
   "execution_count": 10,
   "id": "9b2e80e2-37ae-40b2-84dd-de3443a13446",
   "metadata": {},
   "outputs": [
    {
     "data": {
      "text/plain": [
       "{'input_ids': tensor([[  101,  2129,  2172,  2189,  2064,  2023,  2907,  1029,   102,  2019,\n",
       "         23378,  2003,  2055,  1015, 16914,  1013,  3371,  1010,  2061,  2055,\n",
       "         25961,  2847,  5834,  2006,  5371,  2946,  1012,   102]]), 'token_type_ids': tensor([[0, 0, 0, 0, 0, 0, 0, 0, 0, 1, 1, 1, 1, 1, 1, 1, 1, 1, 1, 1, 1, 1, 1, 1,\n",
       "         1, 1, 1, 1]]), 'attention_mask': tensor([[1, 1, 1, 1, 1, 1, 1, 1, 1, 1, 1, 1, 1, 1, 1, 1, 1, 1, 1, 1, 1, 1, 1, 1,\n",
       "         1, 1, 1, 1]])}"
      ]
     },
     "execution_count": 10,
     "metadata": {},
     "output_type": "execute_result"
    }
   ],
   "source": [
    "question = \"How much music can this hold?\"\n",
    "\n",
    "context = \"\"\"An MP3 is about 1 MB/minute, so about 6000 hours depending on \\\n",
    "file size.\"\"\"\n",
    "inputs = tokenizer(question, context, return_tensors=\"pt\")\n",
    "inputs"
   ]
  },
  {
   "cell_type": "code",
   "execution_count": 11,
   "id": "d0915bc6-6457-43cc-9117-93e5f295ce37",
   "metadata": {},
   "outputs": [
    {
     "data": {
      "text/plain": [
       "'[CLS] how much music can this hold? [SEP] an mp3 is about 1 mb / minute, so about 6000 hours depending on file size. [SEP]'"
      ]
     },
     "execution_count": 11,
     "metadata": {},
     "output_type": "execute_result"
    }
   ],
   "source": [
    "tokenizer.decode(inputs[\"input_ids\"][0])"
   ]
  },
  {
   "cell_type": "code",
   "execution_count": 12,
   "id": "93804a52-f9a8-45b9-9890-fa2a3bc77659",
   "metadata": {},
   "outputs": [
    {
     "name": "stdout",
     "output_type": "stream",
     "text": [
      "QuestionAnsweringModelOutput(loss=None, start_logits=tensor([[-0.9862, -4.7750, -5.4025, -5.2378, -5.2863, -5.5117, -4.9819, -6.1880,\n",
      "         -0.9862,  0.2596, -0.2144, -1.7136,  3.7806,  4.8561, -1.0546, -3.9097,\n",
      "         -1.7374, -4.5944, -1.4278,  3.9949,  5.0391, -0.2018, -3.0193, -4.8549,\n",
      "         -2.3107, -3.5110, -3.5713, -0.9862]]), end_logits=tensor([[-0.9623, -5.4733, -5.0326, -5.1639, -5.4278, -5.5151, -5.1749, -4.6233,\n",
      "         -0.9623, -3.7855, -0.8715, -3.7745, -3.0161, -1.1780,  0.1758, -2.7365,\n",
      "          4.8934,  0.3046, -3.1761, -3.2762,  0.8937,  5.6606, -0.3623, -4.9554,\n",
      "         -3.2531, -0.0914,  1.6211, -0.9623]]), hidden_states=None, attentions=None)\n"
     ]
    }
   ],
   "source": [
    "import torch\n",
    "from transformers import AutoModelForQuestionAnswering\n",
    "\n",
    "model = AutoModelForQuestionAnswering.from_pretrained(model_ckpt)\n",
    "with torch.no_grad():\n",
    "    outputs = model(**inputs)\n",
    "print(outputs)"
   ]
  },
  {
   "cell_type": "code",
   "execution_count": 13,
   "id": "2fe52920-556a-4780-9335-3428a458bdce",
   "metadata": {},
   "outputs": [
    {
     "name": "stdout",
     "output_type": "stream",
     "text": [
      "Input IDs shape: torch.Size([1, 28])\n",
      "Start logits shape: torch.Size([1, 28])\n",
      "End logits shape: torch.Size([1, 28])\n"
     ]
    }
   ],
   "source": [
    "start_logits = outputs.start_logits\n",
    "end_logits = outputs.end_logits\n",
    "\n",
    "print(f\"Input IDs shape: {inputs.input_ids.size()}\")\n",
    "print(f\"Start logits shape: {start_logits.size()}\")\n",
    "print(f\"End logits shape: {end_logits.size()}\")"
   ]
  },
  {
   "cell_type": "code",
   "execution_count": 14,
   "id": "e389220b-3675-4d4f-9982-677e785a7f01",
   "metadata": {},
   "outputs": [
    {
     "data": {
      "image/png": "[encoded data removed]",
      "text/plain": [
       "<Figure size 640x480 with 2 Axes>"
      ]
     },
     "metadata": {},
     "output_type": "display_data"
    }
   ],
   "source": [
    "import numpy as np\n",
    "\n",
    "s_scores = start_logits.detach().numpy().flatten()\n",
    "e_scores = end_logits.detach().numpy().flatten()\n",
    "\n",
    "tokens = tokenizer.convert_ids_to_tokens(inputs[\"input_ids\"][0])\n",
    "token_ids = range(len(tokens))\n",
    "\n",
    "fig, (ax1, ax2) = plt.subplots(nrows=2, sharex=True)\n",
    "colors = [\"C0\" if s != np.max(s_scores) else \"C1\" for s in s_scores]\n",
    "ax1.bar(x=token_ids, height=s_scores, color=colors)\n",
    "ax1.set_ylabel(\"Start Scores\")\n",
    "colors = [\"C0\" if s != np.max(e_scores) else \"C1\" for s in e_scores]\n",
    "ax2.bar(x=token_ids, height=e_scores, color=colors)\n",
    "ax2.set_ylabel(\"End Scores\")\n",
    "plt.xticks(token_ids, tokens, rotation=\"vertical\")\n",
    "plt.show()"
   ]
  },
  {
   "cell_type": "code",
   "execution_count": 15,
   "id": "1c34a01a-a368-4f86-8632-bc2fef9aea5b",
   "metadata": {},
   "outputs": [
    {
     "name": "stdout",
     "output_type": "stream",
     "text": [
      "Question: How much music can this hold?\n",
      "Answer: 6000 hours\n"
     ]
    }
   ],
   "source": [
    "import torch\n",
    "\n",
    "start_idx = torch.argmax(start_logits)\n",
    "end_idx = torch.argmax(end_logits) + 1\n",
    "answer_span = inputs[\"input_ids\"][0][start_idx:end_idx]\n",
    "answer = tokenizer.decode(answer_span)\n",
    "print(f\"Question: {question}\")\n",
    "print(f\"Answer: {answer}\")"
   ]
  },
  {
   "cell_type": "code",
   "execution_count": 16,
   "id": "49eb2fa2-5453-4738-a28d-e3f145b7724a",
   "metadata": {},
   "outputs": [
    {
     "name": "stderr",
     "output_type": "stream",
     "text": [
      "C:\\Users\\BarkY\\anaconda3\\envs\\pytorch-env\\lib\\site-packages\\transformers\\pipelines\\question_answering.py:189: UserWarning: topk parameter is deprecated, use top_k instead\n",
      "  warnings.warn(\"topk parameter is deprecated, use top_k instead\", UserWarning)\n"
     ]
    },
    {
     "data": {
      "text/plain": [
       "[{'score': 0.2651625871658325, 'start': 38, 'end': 48, 'answer': '6000 hours'},\n",
       " {'score': 0.22082915902137756,\n",
       "  'start': 16,\n",
       "  'end': 48,\n",
       "  'answer': '1 MB/minute, so about 6000 hours'},\n",
       " {'score': 0.10253461450338364,\n",
       "  'start': 16,\n",
       "  'end': 27,\n",
       "  'answer': '1 MB/minute'}]"
      ]
     },
     "execution_count": 16,
     "metadata": {},
     "output_type": "execute_result"
    }
   ],
   "source": [
    "from transformers import pipeline\n",
    "\n",
    "pipe = pipeline(\"question-answering\", model=model, tokenizer=tokenizer)\n",
    "pipe(question=question, context=context, topk=3)"
   ]
  },
  {
   "cell_type": "code",
   "execution_count": 17,
   "id": "57309c6b-5b0a-4db5-a2b5-95658e8e25de",
   "metadata": {},
   "outputs": [
    {
     "data": {
      "text/plain": [
       "{'score': 0.9068412780761719, 'start': 0, 'end': 0, 'answer': ''}"
      ]
     },
     "execution_count": 17,
     "metadata": {},
     "output_type": "execute_result"
    }
   ],
   "source": [
    "# question with no anwser possible, assign high start and end score to the [CLS] token\n",
    "pipe(question=\"Why is there no data?\", context=context,\n",
    "handle_impossible_answer=True)"
   ]
  },
  {
   "cell_type": "code",
   "execution_count": 18,
   "id": "93e803e9-5a3a-401e-bfdb-37c9a5ad20ff",
   "metadata": {},
   "outputs": [
    {
     "name": "stdout",
     "output_type": "stream",
     "text": [
      "Window #0 has 100 tokens\n",
      "Window #1 has 88 tokens\n"
     ]
    }
   ],
   "source": [
    "example = dfs[\"train\"].iloc[0][[\"question\", \"context\"]]\n",
    "tokenized_example = tokenizer(example[\"question\"], example[\"context\"], truncation=True, return_overflowing_tokens=True, max_length=100, stride=25)\n",
    "\n",
    "for idx, window in enumerate(tokenized_example[\"input_ids\"]):\n",
    "    print(f\"Window #{idx} has {len(window)} tokens\")"
   ]
  },
  {
   "cell_type": "code",
   "execution_count": 19,
   "id": "00fe63c8-250e-4ef7-9d0a-9f9cef8af3c2",
   "metadata": {},
   "outputs": [
    {
     "name": "stdout",
     "output_type": "stream",
     "text": [
      "[CLS] how is the bass? [SEP] i have had koss headphones in the past, pro 4aa and qz - 99. the koss portapro is portable and has great bass response. the work great with my android phone and can be \" rolled up \" to be carried in my motorcycle jacket or computer bag without getting crunched. they are very light and don't feel heavy or bear down on your ears even after listening to music with them on all day. the sound is [SEP] \n",
      "\n",
      "[CLS] how is the bass? [SEP] and don't feel heavy or bear down on your ears even after listening to music with them on all day. the sound is night and day better than any ear - bud could be and are almost as good as the pro 4aa. they are \" open air \" headphones so you cannot match the bass to the sealed types, but it comes close. for $ 32, you cannot go wrong. [SEP] \n",
      "\n"
     ]
    }
   ],
   "source": [
    "for window in tokenized_example[\"input_ids\"]:\n",
    "    print(f\"{tokenizer.decode(window)} \\n\")"
   ]
  },
  {
   "cell_type": "markdown",
   "id": "5db1fa3e-6d1b-4dae-9ada-48f5bbd7945e",
   "metadata": {},
   "source": [
    "## Using Haystack to Build a QA Pipeline"
   ]
  },
  {
   "cell_type": "markdown",
   "id": "51a41277-8611-4d6a-a6f7-be833766f30c",
   "metadata": {},
   "source": [
    "Linux\n",
    "import os\n",
    "from subprocess import Popen, PIPE, STDOUT\n",
    "Run Elasticsearch as a background process\n",
    "!chown -R daemon:daemon elasticsearch-7.9.2\n",
    "es_server = Popen(args=['elasticsearch-7.9.2/bin/elasticsearch'],\n",
    "stdout=PIPE, stderr=STDOUT)\n",
    "Wait until Elasticsearch has started\n",
    "!sleep 30"
   ]
  },
  {
   "cell_type": "code",
   "execution_count": 20,
   "id": "52f900e9-dd22-436c-bd91-c5ced8c667e2",
   "metadata": {},
   "outputs": [
    {
     "name": "stderr",
     "output_type": "stream",
     "text": [
      "  % Total    % Received % Xferd  Average Speed   Time    Time     Time  Current\n",
      "                                 Dload  Upload   Total   Spent    Left  Speed\n",
      "\n",
      "  0     0    0     0    0     0      0      0 --:--:-- --:--:-- --:--:--     0\n",
      "100   540  100   540    0     0  10033      0 --:--:-- --:--:-- --:--:-- 10188\n"
     ]
    },
    {
     "name": "stdout",
     "output_type": "stream",
     "text": [
      "{\n",
      "  \"name\" : \"DESKTOP-4PKJAL7\",\n",
      "  \"cluster_name\" : \"elasticsearch\",\n",
      "  \"cluster_uuid\" : \"EinT3Mr3RLubjO2rJ3sVYw\",\n",
      "  \"version\" : {\n",
      "    \"number\" : \"7.9.2\",\n",
      "    \"build_flavor\" : \"default\",\n",
      "    \"build_type\" : \"zip\",\n",
      "    \"build_hash\" : \"d34da0ea4a966c4e49417f2da2f244e3e97b4e6e\",\n",
      "    \"build_date\" : \"2020-09-23T00:45:33.626720Z\",\n",
      "    \"build_snapshot\" : false,\n",
      "    \"lucene_version\" : \"8.6.2\",\n",
      "    \"minimum_wire_compatibility_version\" : \"6.8.0\",\n",
      "    \"minimum_index_compatibility_version\" : \"6.0.0-beta1\"\n",
      "  },\n",
      "  \"tagline\" : \"You Know, for Search\"\n",
      "}\n"
     ]
    }
   ],
   "source": [
    "!curl -X GET \"localhost:9200/?pretty\""
   ]
  },
  {
   "cell_type": "code",
   "execution_count": 21,
   "id": "e282d4c6-c899-48b4-83d5-7f0348c7a2d0",
   "metadata": {},
   "outputs": [
    {
     "name": "stderr",
     "output_type": "stream",
     "text": [
      "INFO - haystack.document_stores.base -  Numba not found, replacing njit() with no-op implementation. Enable it with 'pip install numba'.\n",
      "INFO - haystack.modeling.model.optimization -  apex not found, won't use it. See https://nvidia.github.io/apex/\n",
      "ERROR - root -  Failed to import 'magic' (from 'python-magic' and 'python-magic-bin' on Windows). FileTypeClassifier will not perform mimetype detection on extensionless files. Please make sure the necessary OS libraries are installed if you need this functionality.\n"
     ]
    }
   ],
   "source": [
    "from haystack.document_stores import ElasticsearchDocumentStore\n",
    "\n",
    "# Return the document embedding for later use with dense retriever\n",
    "document_store = ElasticsearchDocumentStore(return_embedding=True)"
   ]
  },
  {
   "cell_type": "code",
   "execution_count": 22,
   "id": "188019e1-ab8d-4aa9-b3d9-fd0c8cec6483",
   "metadata": {},
   "outputs": [
    {
     "data": {
      "text/plain": [
       "domain                                                                                           electronics\n",
       "nn_mod                                                                                                 great\n",
       "nn_asp                                                                                         bass response\n",
       "query_mod                                                                                          excellent\n",
       "query_asp                                                                                               bass\n",
       "q_reviews_id                                                                0514ee34b672623dff659334a25b599b\n",
       "question_subj_level                                                                                        5\n",
       "ques_subj_score                                                                                          0.5\n",
       "is_ques_subjective                                                                                     False\n",
       "review_id                                                                   882b1e2745a4779c8f17b3d4406b91c7\n",
       "id                                                                          2543d296da9766d8d17d040ecc781699\n",
       "title                                                                                             B00001P4ZH\n",
       "context                      I have had Koss headphones in the past, Pro 4AA and QZ-99.  The Koss Portapr...\n",
       "question                                                                                    How is the bass?\n",
       "answers.text                                                                                              []\n",
       "answers.answer_start                                                                                      []\n",
       "answers.answer_subj_level                                                                                 []\n",
       "answers.ans_subj_score                                                                                    []\n",
       "answers.is_ans_subjective                                                                                 []\n",
       "Name: 0, dtype: object"
      ]
     },
     "execution_count": 22,
     "metadata": {},
     "output_type": "execute_result"
    }
   ],
   "source": [
    "dfs[\"train\"].iloc[0]"
   ]
  },
  {
   "cell_type": "code",
   "execution_count": 23,
   "id": "3756ab2a-404e-441f-8790-b9b2c0a5f8c1",
   "metadata": {},
   "outputs": [
    {
     "name": "stdout",
     "output_type": "stream",
     "text": [
      "Loaded 1615 documents\n"
     ]
    }
   ],
   "source": [
    "for split, df in dfs.items():\n",
    "    # Exclude duplicate reviews\n",
    "    docs = [{\"content\": row[\"context\"],\n",
    "             \"meta\": {\"item_id\": row[\"title\"], \"question_id\": row[\"id\"], \"split\": split}}\n",
    "           for _, row in df.drop_duplicates(subset=\"context\").iterrows()]\n",
    "    document_store.write_documents(docs, index=\"document\")\n",
    "\n",
    "print(f\"Loaded {document_store.get_document_count()} documents\")"
   ]
  },
  {
   "cell_type": "markdown",
   "id": "8960f77b-11c2-4ec7-a156-f31312f27664",
   "metadata": {},
   "source": [
    "## Initializing a retriever"
   ]
  },
  {
   "cell_type": "code",
   "execution_count": 24,
   "id": "af40dd53-0355-44c4-90d7-1dff25d2a61d",
   "metadata": {},
   "outputs": [
    {
     "name": "stderr",
     "output_type": "stream",
     "text": [
      "WARNING - haystack.retriever.sparse -  This class is now deprecated. Please use the BM25Retriever instead\n"
     ]
    }
   ],
   "source": [
    "from haystack.retriever.sparse import ElasticsearchRetriever\n",
    "\n",
    "es_retriever = ElasticsearchRetriever(document_store=document_store)"
   ]
  },
  {
   "cell_type": "code",
   "execution_count": 25,
   "id": "c4fb6a57-5473-413c-9464-f9df8b0b2015",
   "metadata": {},
   "outputs": [],
   "source": [
    "item_id = \"B0074BW614\"\n",
    "query = \"Is it good for reading?\"\n",
    "retrieved_docs = es_retriever.retrieve(\n",
    "    query=query, top_k=3, filters={\"item_id\":[item_id], \"split\":[\"train\"]})"
   ]
  },
  {
   "cell_type": "code",
   "execution_count": 26,
   "id": "717b9f91-4e8e-4db9-b6bd-e842f89c8fcf",
   "metadata": {},
   "outputs": [
    {
     "name": "stdout",
     "output_type": "stream",
     "text": [
      "<Document: id=252e83e25d52df7311d597dc89eef9f6, content='This is a gift to myself.  I have been a kindle user for 4 years and this is my third one.  I never  ...'>\n"
     ]
    }
   ],
   "source": [
    "print(retrieved_docs[0])"
   ]
  },
  {
   "cell_type": "code",
   "execution_count": 27,
   "id": "457567a8-6f68-4caa-ace3-a32aea5198f3",
   "metadata": {},
   "outputs": [
    {
     "name": "stdout",
     "output_type": "stream",
     "text": [
      "This is a gift to myself.  I have been a kindle user for 4 years and this is my third one.  I never thought I would want a fire for I mainly use it for book reading.  I decided to try the fire for when I travel I take my laptop, my phone and my iPod classic.  I love my iPod but watching movies on the plane with it can be challenging because it is so small. Laptops battery life is not as good as the Kindle.  So the Fire combines for me what I needed all three to do. So far so good.\n"
     ]
    }
   ],
   "source": [
    "print(retrieved_docs[0].content)"
   ]
  },
  {
   "cell_type": "markdown",
   "id": "0beaec9e-1c51-444c-a2f2-c7faf39ce984",
   "metadata": {},
   "source": [
    "## Initializing a reader"
   ]
  },
  {
   "cell_type": "code",
   "execution_count": 28,
   "id": "f95cf21b-f46f-474d-8f15-cb2707c9cebc",
   "metadata": {},
   "outputs": [
    {
     "name": "stderr",
     "output_type": "stream",
     "text": [
      "INFO - haystack.modeling.utils -  Using devices: CPU\n",
      "INFO - haystack.modeling.utils -  Number of GPUs: 0\n",
      "INFO - haystack.modeling.model.language_model -  LOADING MODEL\n",
      "INFO - haystack.modeling.model.language_model -  =============\n",
      "INFO - haystack.modeling.model.language_model -  Could not find deepset/minilm-uncased-squad2 locally.\n",
      "INFO - haystack.modeling.model.language_model -  Looking on Transformers Model Hub (in local cache and online)...\n",
      "INFO - haystack.modeling.model.language_model -  Loaded deepset/minilm-uncased-squad2\n",
      "INFO - haystack.modeling.utils -  Using devices: CPU\n",
      "INFO - haystack.modeling.utils -  Number of GPUs: 0\n",
      "INFO - haystack.modeling.infer -  Got ya 31 parallel workers to do inference ...\n",
      "INFO - haystack.modeling.infer -   0     0     0     0     0     0     0     0     0     0     0     0     0     0     0     0     0     0     0     0     0     0     0     0     0     0     0     0     0     0     0  \n",
      "INFO - haystack.modeling.infer -  /w\\   /w\\   /w\\   /w\\   /w\\   /w\\   /w\\   /|\\  /w\\   /w\\   /w\\   /w\\   /w\\   /w\\   /|\\  /w\\   /|\\  /|\\  /|\\  /|\\  /w\\   /w\\   /|\\  /|\\  /w\\   /w\\   /w\\   /w\\   /w\\   /w\\   /|\\\n",
      "INFO - haystack.modeling.infer -  /'\\   / \\   /'\\   /'\\   / \\   / \\   /'\\   /'\\   /'\\   /'\\   /'\\   /'\\   / \\   /'\\   /'\\   / \\   /'\\   /'\\   /'\\   /'\\   / \\   / \\   /'\\   /'\\   / \\   / \\   / \\   /'\\   /'\\   /'\\   /'\\ \n"
     ]
    }
   ],
   "source": [
    "from haystack.reader.farm import FARMReader\n",
    "\n",
    "model_ckpt = \"deepset/minilm-uncased-squad2\"\n",
    "max_seq_length, doc_stride = 384, 128\n",
    "reader = FARMReader(model_name_or_path=model_ckpt, progress_bar=False,\n",
    "                    max_seq_len=max_seq_length, doc_stride=doc_stride,\n",
    "                    return_no_answer=True)"
   ]
  },
  {
   "cell_type": "code",
   "execution_count": 29,
   "id": "d497f2af-8ae6-44ad-81b5-8594d992e8c4",
   "metadata": {},
   "outputs": [
    {
     "name": "stderr",
     "output_type": "stream",
     "text": [
      "C:\\Users\\BarkY\\anaconda3\\envs\\pytorch-env\\lib\\site-packages\\haystack\\modeling\\model\\prediction_head.py:483: UserWarning: __floordiv__ is deprecated, and its behavior will change in a future version of pytorch. It currently rounds toward 0 (like the 'trunc' function NOT 'floor'). This results in incorrect rounding for negative values. To keep the current behavior, use torch.div(a, b, rounding_mode='trunc'), or for actual floor division, use torch.div(a, b, rounding_mode='floor').\n",
      "  start_indices = flat_sorted_indices // max_seq_len\n"
     ]
    },
    {
     "data": {
      "text/plain": [
       "{'query': 'How much music can this hold?',\n",
       " 'no_ans_gap': 12.648075580596924,\n",
       " 'answers': [<Answer {'answer': '6000 hours', 'type': 'extractive', 'score': 0.5293045192956924, 'context': 'An MP3 is about 1 MB/minute, so about 6000 hours depending on file size.', 'offsets_in_document': [{'start': 38, 'end': 48}], 'offsets_in_context': [{'start': 38, 'end': 48}], 'document_id': 'e344757014e804eff50faa3ecf1c9c75', 'meta': {}}>]}"
      ]
     },
     "execution_count": 29,
     "metadata": {},
     "output_type": "execute_result"
    }
   ],
   "source": [
    "reader.predict_on_texts(question=question, texts=[context], top_k=1)"
   ]
  },
  {
   "cell_type": "markdown",
   "id": "0b6152ca-d8dd-44cb-a944-49bfc4a97dac",
   "metadata": {},
   "source": [
    "## Putting it all together"
   ]
  },
  {
   "cell_type": "code",
   "execution_count": 30,
   "id": "6e461bc8-cae5-4fd0-b2de-343aed8d52f1",
   "metadata": {},
   "outputs": [
    {
     "name": "stderr",
     "output_type": "stream",
     "text": [
      "WARNING - haystack -  Object 'ExtractiveQAPipeline' is imported through a deprecated path. Please check out the docs for the new import path.\n"
     ]
    }
   ],
   "source": [
    "from haystack.pipeline import ExtractiveQAPipeline\n",
    "\n",
    "pipe = ExtractiveQAPipeline(reader, es_retriever)"
   ]
  },
  {
   "cell_type": "code",
   "execution_count": 31,
   "id": "dc153690-dff2-4cb5-9b81-888966bdafe7",
   "metadata": {},
   "outputs": [
    {
     "name": "stdout",
     "output_type": "stream",
     "text": [
      "Question: Is it good for reading? \n",
      "\n",
      "Answer 1: it is great for reading books when no light is available\n",
      "Review snippet: ...ecoming addicted to hers! Our son LOVES it and it is great for reading books when no light is available. Amazing sound but I suggest good headphones t...\n",
      "\n",
      "\n",
      "\n",
      "Answer 2: I mainly use it for book reading\n",
      "Review snippet: ... is my third one.  I never thought I would want a fire for I mainly use it for book reading.  I decided to try the fire for when I travel I take my la...\n",
      "\n",
      "\n",
      "\n",
      "Answer 3: \n",
      "Review snippet: ...None...\n",
      "\n",
      "\n",
      "\n"
     ]
    }
   ],
   "source": [
    "n_answers = 3\n",
    "preds = pipe.run(query=query, params={\"Retriever\": {\"top_k\": 3, \"filters\":{\"item_id\": [item_id], \"split\":[\"train\"]}}, \n",
    "                                      \"Reader\": {\"top_k\": n_answers}})\n",
    "\n",
    "print(f\"Question: {preds['query']} \\n\")\n",
    "\n",
    "for idx in range(n_answers):\n",
    "    print(f\"Answer {idx+1}: {preds['answers'][idx].answer}\")\n",
    "    print(f\"Review snippet: ...{preds['answers'][idx].context}...\")\n",
    "    print(\"\\n\\n\")"
   ]
  },
  {
   "cell_type": "markdown",
   "id": "5e5a4f11-a7e0-4e6b-8a76-7fdc49008909",
   "metadata": {},
   "source": [
    "## Improving our QA Pipeline"
   ]
  },
  {
   "cell_type": "markdown",
   "id": "863a6ab2-de35-49c3-a500-2c68932a84b4",
   "metadata": {},
   "source": [
    "## Evaluating the Retriever"
   ]
  },
  {
   "cell_type": "code",
   "execution_count": 32,
   "id": "e096732b-51d6-443e-af81-b6f2ce62f42a",
   "metadata": {},
   "outputs": [],
   "source": [
    "from haystack.pipelines import DocumentSearchPipeline\n",
    "\n",
    "pipe = DocumentSearchPipeline(retriever=es_retriever)"
   ]
  },
  {
   "cell_type": "code",
   "execution_count": 33,
   "id": "d83a682f-b3db-4ed3-9e3a-d3753d803980",
   "metadata": {},
   "outputs": [],
   "source": [
    "from haystack import Label, Answer, Document\n",
    "\n",
    "labels = []\n",
    "for i, row in dfs[\"test\"].iterrows():\n",
    "    # Metadata used for filtering in the Retriever\n",
    "    meta = {\"item_id\": row[\"title\"], \"question_id\": row[\"id\"]}\n",
    "    # Populate labels for questions with answers\n",
    "    if len(row[\"answers.text\"]):\n",
    "        for answer in row[\"answers.text\"]:\n",
    "            label = Label(\n",
    "                query=row[\"question\"], answer=Answer(answer=answer), origin=\"gold-label\", document=Document(content=row[\"context\"], id=row[\"review_id\"]),\n",
    "                meta=meta, is_correct_answer=True, is_correct_document=True,\n",
    "                no_answer=False, filters={\"item_id\": [meta[\"item_id\"]], \"split\":[\"test\"]}\n",
    "            )\n",
    "            labels.append(label)\n",
    "    # Populate labels for questions without answers\n",
    "    else:\n",
    "        label = Label(\n",
    "                query=row[\"question\"], answer=Answer(answer=\"\"), origin=\"gold-label\", document=Document(content=row[\"context\"], id=row[\"review_id\"]),\n",
    "                meta=meta, is_correct_answer=True, is_correct_document=True,\n",
    "                no_answer=True, filters={\"item_id\": [row[\"title\"]], \"split\":[\"test\"]}\n",
    "        )  \n",
    "        labels.append(label)"
   ]
  },
  {
   "cell_type": "code",
   "execution_count": 34,
   "id": "043bf234-7635-4bcb-bd63-2c726bedba60",
   "metadata": {},
   "outputs": [
    {
     "name": "stdout",
     "output_type": "stream",
     "text": [
      "Loaded 910 question-answer pairs\n"
     ]
    }
   ],
   "source": [
    "document_store.write_labels(labels, index=\"label\")\n",
    "\n",
    "print(f\"\"\"Loaded {document_store.get_label_count(index=\"label\")} \\\n",
    "question-answer pairs\"\"\")"
   ]
  },
  {
   "cell_type": "code",
   "execution_count": 35,
   "id": "46e93849-695c-4294-a126-9e4c222d4a78",
   "metadata": {},
   "outputs": [
    {
     "name": "stdout",
     "output_type": "stream",
     "text": [
      "330\n"
     ]
    }
   ],
   "source": [
    "labels_agg = document_store.get_all_labels_aggregated(\n",
    "    index=\"label\",\n",
    "    open_domain=True,\n",
    "    aggregate_by_meta=[\"item_id\"]\n",
    ")\n",
    "print(len(labels_agg))"
   ]
  },
  {
   "cell_type": "code",
   "execution_count": 36,
   "id": "5b8322a1-7217-4b45-a10a-4811046cd6f5",
   "metadata": {},
   "outputs": [
    {
     "name": "stdout",
     "output_type": "stream",
     "text": [
      "<MultiLabel: {'labels': [{'id': 'bcb868c8-b74d-4701-957f-3533dd098b43', 'query': 'How does the fan work?', 'document': {'content': 'In most demanding games, my GPU will consistently soar to 90-93 degrees Celsius. I didn\\'t like seeing temps in the 90s so I figured I would pick up this Cooler Master for a shade over $20. Is it worth it? I think it is.My Sager NP8130 is 15.6\" and this cooler fits it just about perfectly - I have maybe 1\" of extra room. My laptop\\'s rubber stops on the bottom keep it anchored pretty well, and the fan itself isn\\'t super loud. There is an adjustable dial to change fan speed, but when I\\'m gaming, I generally just have it on max, and when I\\'m not gaming, I turn the cooling pad off altogether.The one thing I would make sure you do is use the little legs on the bottom of the cooling pad to prop it up an extra half inch or so. It makes a world of difference in how much more air can flow through under the pad and up to your laptop. Also, beware of using this on top of a table cloth - it seems to impede air flow as well. With the legs propping up the cooling pad, my GPU temps only hit about 84-86 degrees, but without it propped up, my GPU is still 90-91 degrees.Overall, it\\'s a small ~$20 investment to potentially increase the life of my laptop as a whole.', 'content_type': 'text', 'id': '5c70ce373bb8b93ca23bf3d696dbb8eb', 'meta': {}, 'score': None, 'embedding': None}, 'is_correct_answer': True, 'is_correct_document': True, 'origin': 'gold-label', 'answer': {'answer': \"the fan itself isn't super loud. There is an adjustable dial to change fan speed\", 'type': 'extractive', 'score': None, 'context': None, 'offsets_in_document': None, 'offsets_in_context': None, 'document_id': None, 'meta': {}}, 'no_answer': False, 'pipeline_id': None, 'created_at': '2023-05-07 19:57:16', 'updated_at': '2023-05-07 19:57:16', 'meta': {'item_id': 'B002MU1ZRS', 'question_id': 'f20dae56410f31632d6a9f8f8284657a'}, 'filters': {'item_id': ['B002MU1ZRS'], 'split': ['test']}}, {'id': '0e362a30-41d6-4d41-8fb8-d11366084572', 'query': 'How does the fan work?', 'document': {'content': 'In most demanding games, my GPU will consistently soar to 90-93 degrees Celsius. I didn\\'t like seeing temps in the 90s so I figured I would pick up this Cooler Master for a shade over $20. Is it worth it? I think it is.My Sager NP8130 is 15.6\" and this cooler fits it just about perfectly - I have maybe 1\" of extra room. My laptop\\'s rubber stops on the bottom keep it anchored pretty well, and the fan itself isn\\'t super loud. There is an adjustable dial to change fan speed, but when I\\'m gaming, I generally just have it on max, and when I\\'m not gaming, I turn the cooling pad off altogether.The one thing I would make sure you do is use the little legs on the bottom of the cooling pad to prop it up an extra half inch or so. It makes a world of difference in how much more air can flow through under the pad and up to your laptop. Also, beware of using this on top of a table cloth - it seems to impede air flow as well. With the legs propping up the cooling pad, my GPU temps only hit about 84-86 degrees, but without it propped up, my GPU is still 90-91 degrees.Overall, it\\'s a small ~$20 investment to potentially increase the life of my laptop as a whole.', 'content_type': 'text', 'id': '5c70ce373bb8b93ca23bf3d696dbb8eb', 'meta': {}, 'score': None, 'embedding': None}, 'is_correct_answer': True, 'is_correct_document': True, 'origin': 'gold-label', 'answer': {'answer': 'this cooler fits it just about perfectly', 'type': 'extractive', 'score': None, 'context': None, 'offsets_in_document': None, 'offsets_in_context': None, 'document_id': None, 'meta': {}}, 'no_answer': False, 'pipeline_id': None, 'created_at': '2023-05-07 19:57:16', 'updated_at': '2023-05-07 19:57:16', 'meta': {'item_id': 'B002MU1ZRS', 'question_id': 'f20dae56410f31632d6a9f8f8284657a'}, 'filters': {'item_id': ['B002MU1ZRS'], 'split': ['test']}}, {'id': '879c99be-a2de-4d0e-a7c6-3d5a36b412f2', 'query': 'How does the fan work?', 'document': {'content': 'the usb on the back caused my mac to restart when i would plug something into about 50% of the time.  very annoying but the fan is really really good!', 'content_type': 'text', 'id': 'a5db4d52bb4d0fcadff2b8a6f4e54d75', 'meta': {}, 'score': None, 'embedding': None}, 'is_correct_answer': True, 'is_correct_document': True, 'origin': 'gold-label', 'answer': {'answer': 'the fan is really really good', 'type': 'extractive', 'score': None, 'context': None, 'offsets_in_document': None, 'offsets_in_context': None, 'document_id': None, 'meta': {}}, 'no_answer': False, 'pipeline_id': None, 'created_at': '2023-05-07 19:57:16', 'updated_at': '2023-05-07 19:57:16', 'meta': {'item_id': 'B002MU1ZRS', 'question_id': '5a9b7616541f700f103d21f8ad41bc4b'}, 'filters': {'item_id': ['B002MU1ZRS'], 'split': ['test']}}], 'query': 'How does the fan work?', 'answers': [\"the fan itself isn't super loud. There is an adjustable dial to change fan speed\", 'this cooler fits it just about perfectly', 'the fan is really really good'], 'no_answer': False, 'document_ids': ['5c70ce373bb8b93ca23bf3d696dbb8eb', '5c70ce373bb8b93ca23bf3d696dbb8eb', 'a5db4d52bb4d0fcadff2b8a6f4e54d75'], 'document_contents': ['In most demanding games, my GPU will consistently soar to 90-93 degrees Celsius. I didn\\'t like seeing temps in the 90s so I figured I would pick up this Cooler Master for a shade over $20. Is it worth it? I think it is.My Sager NP8130 is 15.6\" and this cooler fits it just about perfectly - I have maybe 1\" of extra room. My laptop\\'s rubber stops on the bottom keep it anchored pretty well, and the fan itself isn\\'t super loud. There is an adjustable dial to change fan speed, but when I\\'m gaming, I generally just have it on max, and when I\\'m not gaming, I turn the cooling pad off altogether.The one thing I would make sure you do is use the little legs on the bottom of the cooling pad to prop it up an extra half inch or so. It makes a world of difference in how much more air can flow through under the pad and up to your laptop. Also, beware of using this on top of a table cloth - it seems to impede air flow as well. With the legs propping up the cooling pad, my GPU temps only hit about 84-86 degrees, but without it propped up, my GPU is still 90-91 degrees.Overall, it\\'s a small ~$20 investment to potentially increase the life of my laptop as a whole.', 'In most demanding games, my GPU will consistently soar to 90-93 degrees Celsius. I didn\\'t like seeing temps in the 90s so I figured I would pick up this Cooler Master for a shade over $20. Is it worth it? I think it is.My Sager NP8130 is 15.6\" and this cooler fits it just about perfectly - I have maybe 1\" of extra room. My laptop\\'s rubber stops on the bottom keep it anchored pretty well, and the fan itself isn\\'t super loud. There is an adjustable dial to change fan speed, but when I\\'m gaming, I generally just have it on max, and when I\\'m not gaming, I turn the cooling pad off altogether.The one thing I would make sure you do is use the little legs on the bottom of the cooling pad to prop it up an extra half inch or so. It makes a world of difference in how much more air can flow through under the pad and up to your laptop. Also, beware of using this on top of a table cloth - it seems to impede air flow as well. With the legs propping up the cooling pad, my GPU temps only hit about 84-86 degrees, but without it propped up, my GPU is still 90-91 degrees.Overall, it\\'s a small ~$20 investment to potentially increase the life of my laptop as a whole.', 'the usb on the back caused my mac to restart when i would plug something into about 50% of the time.  very annoying but the fan is really really good!'], 'gold_offsets_in_contexts': [], 'gold_offsets_in_documents': []}>\n"
     ]
    }
   ],
   "source": [
    "print(labels_agg[109])"
   ]
  },
  {
   "cell_type": "code",
   "execution_count": 37,
   "id": "51148502-1bf6-4c8d-a428-1032d7a23bbf",
   "metadata": {},
   "outputs": [
    {
     "name": "stdout",
     "output_type": "stream",
     "text": [
      "Recall@3: 0.95\n"
     ]
    }
   ],
   "source": [
    "eval_result = pipe.eval(\n",
    "    labels=labels_agg,\n",
    "    params={\"Retriever\": {\"top_k\": 3}},\n",
    ")\n",
    "metrics = eval_result.calculate_metrics()\n",
    "print(f\"Recall@3: {metrics['Retriever']['recall_single_hit']:.2f}\")"
   ]
  },
  {
   "cell_type": "code",
   "execution_count": 38,
   "id": "6afa4e6c-4df7-4411-bb87-d1318460f7a2",
   "metadata": {},
   "outputs": [
    {
     "data": {
      "text/html": [
       "<div>\n",
       "<style scoped>\n",
       "    .dataframe tbody tr th:only-of-type {\n",
       "        vertical-align: middle;\n",
       "    }\n",
       "\n",
       "    .dataframe tbody tr th {\n",
       "        vertical-align: top;\n",
       "    }\n",
       "\n",
       "    .dataframe thead th {\n",
       "        text-align: right;\n",
       "    }\n",
       "</style>\n",
       "<table border=\"1\" class=\"dataframe\">\n",
       "  <thead>\n",
       "    <tr style=\"text-align: right;\">\n",
       "      <th></th>\n",
       "      <th>query</th>\n",
       "      <th>filters</th>\n",
       "      <th>rank</th>\n",
       "      <th>content</th>\n",
       "      <th>gold_document_contents</th>\n",
       "      <th>document_id</th>\n",
       "      <th>gold_document_ids</th>\n",
       "      <th>gold_id_match</th>\n",
       "    </tr>\n",
       "  </thead>\n",
       "  <tbody>\n",
       "    <tr>\n",
       "      <th>0</th>\n",
       "      <td>How do you like the lens?</td>\n",
       "      <td>b'{\"item_id\": [\"B00006I53S\"], \"split\": [\"test\"]}'</td>\n",
       "      <td>1.0</td>\n",
       "      <td>I bought this lens for my Canon 20D digital camera and have found it to be a...</td>\n",
       "      <td>[I bought this lens for my Canon 20D digital camera and have found it to be ...</td>\n",
       "      <td>3566c491f5aafe80a22667754727dfc0</td>\n",
       "      <td>[fac2e8bec06035a70307dd1e8034ea63]</td>\n",
       "      <td>0.0</td>\n",
       "    </tr>\n",
       "    <tr>\n",
       "      <th>1</th>\n",
       "      <td>How do you like the lens?</td>\n",
       "      <td>b'{\"item_id\": [\"B00006I53S\"], \"split\": [\"test\"]}'</td>\n",
       "      <td>2.0</td>\n",
       "      <td>I am not a professional or expert photographer...so take these comments with...</td>\n",
       "      <td>[I bought this lens for my Canon 20D digital camera and have found it to be ...</td>\n",
       "      <td>d5c7736727a38c2fe62df10beef4a5ce</td>\n",
       "      <td>[fac2e8bec06035a70307dd1e8034ea63]</td>\n",
       "      <td>0.0</td>\n",
       "    </tr>\n",
       "    <tr>\n",
       "      <th>0</th>\n",
       "      <td>How do you like the lens?</td>\n",
       "      <td>b'{\"item_id\": [\"B00007E7JU\"], \"split\": [\"test\"]}'</td>\n",
       "      <td>1.0</td>\n",
       "      <td>I think that the title says it all. It is one of the cheapest lens on the ma...</td>\n",
       "      <td>[]</td>\n",
       "      <td>ebfb4b46819be7c051b27f0c28efd0fb</td>\n",
       "      <td>[]</td>\n",
       "      <td>0.0</td>\n",
       "    </tr>\n",
       "    <tr>\n",
       "      <th>1</th>\n",
       "      <td>How do you like the lens?</td>\n",
       "      <td>b'{\"item_id\": [\"B00007E7JU\"], \"split\": [\"test\"]}'</td>\n",
       "      <td>2.0</td>\n",
       "      <td>I bough this lens for a relative who bought my old canon rebel xti from me (...</td>\n",
       "      <td>[]</td>\n",
       "      <td>94163306f4c5c35c83ed165b2282cd32</td>\n",
       "      <td>[]</td>\n",
       "      <td>0.0</td>\n",
       "    </tr>\n",
       "    <tr>\n",
       "      <th>2</th>\n",
       "      <td>How do you like the lens?</td>\n",
       "      <td>b'{\"item_id\": [\"B00007E7JU\"], \"split\": [\"test\"]}'</td>\n",
       "      <td>3.0</td>\n",
       "      <td>I fell in love with the lens the moment I started using it. sure, the build ...</td>\n",
       "      <td>[]</td>\n",
       "      <td>7f5d77178fe93006124f731249d245f8</td>\n",
       "      <td>[]</td>\n",
       "      <td>0.0</td>\n",
       "    </tr>\n",
       "    <tr>\n",
       "      <th>0</th>\n",
       "      <td>How do you like the lens?</td>\n",
       "      <td>b'{\"item_id\": [\"B0025EWXEU\"], \"split\": [\"test\"]}'</td>\n",
       "      <td>1.0</td>\n",
       "      <td>I have read a lot of negative press about this lens, but I have to tell you ...</td>\n",
       "      <td>[I have read a lot of negative press about this lens, but I have to tell you...</td>\n",
       "      <td>11818a689fbac56cbb063eb658b22c05</td>\n",
       "      <td>[47f76b8f62cf296d394d993741d660aa, 47f76b8f62cf296d394d993741d660aa]</td>\n",
       "      <td>0.0</td>\n",
       "    </tr>\n",
       "  </tbody>\n",
       "</table>\n",
       "</div>"
      ],
      "text/plain": [
       "                       query  \\\n",
       "0  How do you like the lens?   \n",
       "1  How do you like the lens?   \n",
       "0  How do you like the lens?   \n",
       "1  How do you like the lens?   \n",
       "2  How do you like the lens?   \n",
       "0  How do you like the lens?   \n",
       "\n",
       "                                             filters  rank  \\\n",
       "0  b'{\"item_id\": [\"B00006I53S\"], \"split\": [\"test\"]}'   1.0   \n",
       "1  b'{\"item_id\": [\"B00006I53S\"], \"split\": [\"test\"]}'   2.0   \n",
       "0  b'{\"item_id\": [\"B00007E7JU\"], \"split\": [\"test\"]}'   1.0   \n",
       "1  b'{\"item_id\": [\"B00007E7JU\"], \"split\": [\"test\"]}'   2.0   \n",
       "2  b'{\"item_id\": [\"B00007E7JU\"], \"split\": [\"test\"]}'   3.0   \n",
       "0  b'{\"item_id\": [\"B0025EWXEU\"], \"split\": [\"test\"]}'   1.0   \n",
       "\n",
       "                                                                           content  \\\n",
       "0  I bought this lens for my Canon 20D digital camera and have found it to be a...   \n",
       "1  I am not a professional or expert photographer...so take these comments with...   \n",
       "0  I think that the title says it all. It is one of the cheapest lens on the ma...   \n",
       "1  I bough this lens for a relative who bought my old canon rebel xti from me (...   \n",
       "2  I fell in love with the lens the moment I started using it. sure, the build ...   \n",
       "0  I have read a lot of negative press about this lens, but I have to tell you ...   \n",
       "\n",
       "                                                            gold_document_contents  \\\n",
       "0  [I bought this lens for my Canon 20D digital camera and have found it to be ...   \n",
       "1  [I bought this lens for my Canon 20D digital camera and have found it to be ...   \n",
       "0                                                                               []   \n",
       "1                                                                               []   \n",
       "2                                                                               []   \n",
       "0  [I have read a lot of negative press about this lens, but I have to tell you...   \n",
       "\n",
       "                        document_id  \\\n",
       "0  3566c491f5aafe80a22667754727dfc0   \n",
       "1  d5c7736727a38c2fe62df10beef4a5ce   \n",
       "0  ebfb4b46819be7c051b27f0c28efd0fb   \n",
       "1  94163306f4c5c35c83ed165b2282cd32   \n",
       "2  7f5d77178fe93006124f731249d245f8   \n",
       "0  11818a689fbac56cbb063eb658b22c05   \n",
       "\n",
       "                                                      gold_document_ids  \\\n",
       "0                                    [fac2e8bec06035a70307dd1e8034ea63]   \n",
       "1                                    [fac2e8bec06035a70307dd1e8034ea63]   \n",
       "0                                                                    []   \n",
       "1                                                                    []   \n",
       "2                                                                    []   \n",
       "0  [47f76b8f62cf296d394d993741d660aa, 47f76b8f62cf296d394d993741d660aa]   \n",
       "\n",
       "   gold_id_match  \n",
       "0            0.0  \n",
       "1            0.0  \n",
       "0            0.0  \n",
       "1            0.0  \n",
       "2            0.0  \n",
       "0            0.0  "
      ]
     },
     "execution_count": 38,
     "metadata": {},
     "output_type": "execute_result"
    }
   ],
   "source": [
    "eval_df = eval_result[\"Retriever\"]\n",
    "eval_df[eval_df[\"query\"] == \"How do you like the lens?\"][[\"query\", \"filters\", \"rank\", \"content\", \"gold_document_contents\", \"document_id\", \"gold_document_ids\", \"gold_id_match\"]]"
   ]
  },
  {
   "cell_type": "code",
   "execution_count": 39,
   "id": "d5ef2a5f-0e3e-4fd7-bac3-6d945b17dd77",
   "metadata": {},
   "outputs": [],
   "source": [
    "def evaluate_retriever(retriever, topk_values = [1,3,5,10,20]):\n",
    "    topk_results = {}\n",
    "    for topk in topk_values:\n",
    "        # Create Pipeline\n",
    "        p = DocumentSearchPipeline(retriever=retriever)\n",
    "        # Loop over each question-answers pair in test set\n",
    "        eval_result = p.eval(\n",
    "        labels=labels_agg,\n",
    "        params={\"Retriever\": {\"top_k\": topk}},\n",
    "        )\n",
    "        metrics = eval_result.calculate_metrics()\n",
    "        # Get metrics\n",
    "        topk_results[topk] = {\"recall\": metrics['Retriever']['recall_single_hit']}\n",
    "    return pd.DataFrame.from_dict(topk_results, orient=\"index\")\n",
    "es_topk_df = evaluate_retriever(es_retriever)"
   ]
  },
  {
   "cell_type": "code",
   "execution_count": 40,
   "id": "e201709d-2105-4639-a7ff-bbec11f35d45",
   "metadata": {},
   "outputs": [
    {
     "data": {
      "image/png": "[encoded data removed]",
      "text/plain": [
       "<Figure size 640x480 with 1 Axes>"
      ]
     },
     "metadata": {},
     "output_type": "display_data"
    }
   ],
   "source": [
    "def plot_retriever_eval(dfs, retriever_names):\n",
    "    fig, ax = plt.subplots()\n",
    "    for df, retriever_name in zip(dfs, retriever_names):\n",
    "        df.plot(y=\"recall\", ax=ax, label=retriever_name)\n",
    "    plt.xticks(df.index)\n",
    "    plt.ylabel(\"Top-k Recall\")\n",
    "    plt.xlabel(\"k\")\n",
    "    plt.show()\n",
    "\n",
    "plot_retriever_eval([es_topk_df], [\"BM25\"])\n"
   ]
  },
  {
   "cell_type": "markdown",
   "id": "3f23b90b-6379-4a34-a13b-25ffd47ebbb4",
   "metadata": {},
   "source": [
    "## Dense Passage Retrieval"
   ]
  },
  {
   "cell_type": "code",
   "execution_count": 41,
   "id": "5fc0658f-ddcc-4db6-9b16-efcbe9ca04ec",
   "metadata": {},
   "outputs": [
    {
     "name": "stderr",
     "output_type": "stream",
     "text": [
      "INFO - haystack.modeling.utils -  Using devices: CPU\n",
      "INFO - haystack.modeling.utils -  Number of GPUs: 0\n",
      "INFO - haystack.modeling.model.language_model -  LOADING MODEL\n",
      "INFO - haystack.modeling.model.language_model -  =============\n",
      "INFO - haystack.modeling.model.language_model -  Could not find facebook/dpr-question_encoder-single-nq-base locally.\n",
      "INFO - haystack.modeling.model.language_model -  Looking on Transformers Model Hub (in local cache and online)...\n",
      "INFO - haystack.modeling.model.language_model -  Loaded facebook/dpr-question_encoder-single-nq-base\n",
      "The tokenizer class you load from this checkpoint is not the same type as the class this function is called from. It may result in unexpected tokenization. \n",
      "The tokenizer class you load from this checkpoint is 'DPRQuestionEncoderTokenizer'. \n",
      "The class this function is called from is 'DPRContextEncoderTokenizerFast'.\n",
      "INFO - haystack.modeling.model.language_model -  LOADING MODEL\n",
      "INFO - haystack.modeling.model.language_model -  =============\n",
      "INFO - haystack.modeling.model.language_model -  Could not find facebook/dpr-ctx_encoder-single-nq-base locally.\n",
      "INFO - haystack.modeling.model.language_model -  Looking on Transformers Model Hub (in local cache and online)...\n",
      "INFO - haystack.modeling.model.language_model -  Loaded facebook/dpr-ctx_encoder-single-nq-base\n"
     ]
    }
   ],
   "source": [
    "from haystack.nodes import DensePassageRetriever\n",
    "\n",
    "dpr_retriever = DensePassageRetriever(document_store=document_store,\n",
    "    query_embedding_model=\"facebook/dpr-question_encoder-single-nq-base\",\n",
    "    passage_embedding_model=\"facebook/dpr-ctx_encoder-single-nq-base\",\n",
    "    embed_title=False)"
   ]
  },
  {
   "cell_type": "code",
   "execution_count": 42,
   "id": "b6d92926-417f-481f-b36b-b82f959bde15",
   "metadata": {},
   "outputs": [
    {
     "name": "stderr",
     "output_type": "stream",
     "text": [
      "INFO - haystack.document_stores.elasticsearch -  Updating embeddings for all 1615 docs ...\n",
      "Updating embeddings:   0%|                                                                 | 0/1615 [00:00<?, ? Docs/s]\n",
      "Create embeddings:   0%|                                                                   | 0/1616 [00:00<?, ? Docs/s]\u001b[A\n",
      "Create embeddings:   1%|▌                                                         | 16/1616 [00:03<05:48,  4.59 Docs/s]\u001b[A\n",
      "Create embeddings:   2%|█▏                                                        | 32/1616 [00:06<05:44,  4.60 Docs/s]\u001b[A\n",
      "Create embeddings:   3%|█▋                                                        | 48/1616 [00:10<05:48,  4.50 Docs/s]\u001b[A\n",
      "Create embeddings:   4%|██▎                                                       | 64/1616 [00:14<05:44,  4.51 Docs/s]\u001b[A\n",
      "Create embeddings:   5%|██▊                                                       | 80/1616 [00:17<05:43,  4.47 Docs/s]\u001b[A\n",
      "Create embeddings:   6%|███▍                                                      | 96/1616 [00:21<05:37,  4.51 Docs/s]\u001b[A\n",
      "Create embeddings:   7%|███▉                                                     | 112/1616 [00:24<05:36,  4.47 Docs/s]\u001b[A\n",
      "Create embeddings:   8%|████▌                                                    | 128/1616 [00:28<05:33,  4.46 Docs/s]\u001b[A\n",
      "Create embeddings:   9%|█████                                                    | 144/1616 [00:32<05:27,  4.49 Docs/s]\u001b[A\n",
      "Create embeddings:  10%|█████▋                                                   | 160/1616 [00:35<05:23,  4.50 Docs/s]\u001b[A\n",
      "Create embeddings:  11%|██████▏                                                  | 176/1616 [00:39<05:18,  4.53 Docs/s]\u001b[A\n",
      "Create embeddings:  12%|██████▊                                                  | 192/1616 [00:42<05:12,  4.55 Docs/s]\u001b[A\n",
      "Create embeddings:  13%|███████▎                                                 | 208/1616 [00:45<05:07,  4.57 Docs/s]\u001b[A\n",
      "Create embeddings:  14%|███████▉                                                 | 224/1616 [00:49<05:03,  4.59 Docs/s]\u001b[A\n",
      "Create embeddings:  15%|████████▍                                                | 240/1616 [00:52<04:58,  4.61 Docs/s]\u001b[A\n",
      "Create embeddings:  16%|█████████                                                | 256/1616 [00:56<04:56,  4.59 Docs/s]\u001b[A\n",
      "Create embeddings:  17%|█████████▌                                               | 272/1616 [00:59<04:53,  4.57 Docs/s]\u001b[A\n",
      "Create embeddings:  18%|██████████▏                                              | 288/1616 [01:03<04:50,  4.57 Docs/s]\u001b[A\n",
      "Create embeddings:  19%|██████████▋                                              | 304/1616 [01:06<04:47,  4.57 Docs/s]\u001b[A\n",
      "Create embeddings:  20%|███████████▎                                             | 320/1616 [01:10<04:44,  4.56 Docs/s]\u001b[A\n",
      "Create embeddings:  21%|███████████▊                                             | 336/1616 [01:14<04:42,  4.53 Docs/s]\u001b[A\n",
      "Create embeddings:  22%|████████████▍                                            | 352/1616 [01:17<04:40,  4.51 Docs/s]\u001b[A\n",
      "Create embeddings:  23%|████████████▉                                            | 368/1616 [01:21<04:35,  4.53 Docs/s]\u001b[A\n",
      "Create embeddings:  24%|█████████████▌                                           | 384/1616 [01:24<04:32,  4.52 Docs/s]\u001b[A\n",
      "Create embeddings:  25%|██████████████                                           | 400/1616 [01:28<04:29,  4.52 Docs/s]\u001b[A\n",
      "Create embeddings:  26%|██████████████▋                                          | 416/1616 [01:32<04:30,  4.43 Docs/s]\u001b[A\n",
      "Create embeddings:  27%|███████████████▏                                         | 432/1616 [01:35<04:25,  4.46 Docs/s]\u001b[A\n",
      "Create embeddings:  28%|███████████████▊                                         | 448/1616 [01:39<04:22,  4.46 Docs/s]\u001b[A\n",
      "Create embeddings:  29%|████████████████▎                                        | 464/1616 [01:42<04:15,  4.51 Docs/s]\u001b[A\n",
      "Create embeddings:  30%|████████████████▉                                        | 480/1616 [01:46<04:12,  4.50 Docs/s]\u001b[A\n",
      "Create embeddings:  31%|█████████████████▍                                       | 496/1616 [01:49<04:07,  4.52 Docs/s]\u001b[A\n",
      "Create embeddings:  32%|██████████████████                                       | 512/1616 [01:53<04:01,  4.58 Docs/s]\u001b[A\n",
      "Create embeddings:  33%|██████████████████▌                                      | 528/1616 [01:56<03:57,  4.59 Docs/s]\u001b[A\n",
      "Create embeddings:  34%|███████████████████▏                                     | 544/1616 [01:59<03:51,  4.63 Docs/s]\u001b[A\n",
      "Create embeddings:  35%|███████████████████▊                                     | 560/1616 [02:03<03:46,  4.66 Docs/s]\u001b[A\n",
      "Create embeddings:  36%|████████████████████▎                                    | 576/1616 [02:06<03:43,  4.65 Docs/s]\u001b[A\n",
      "Create embeddings:  37%|████████████████████▉                                    | 592/1616 [02:10<03:37,  4.70 Docs/s]\u001b[A\n",
      "Create embeddings:  38%|█████████████████████▍                                   | 608/1616 [02:13<03:36,  4.66 Docs/s]\u001b[A\n",
      "Create embeddings:  39%|██████████████████████                                   | 624/1616 [02:17<03:33,  4.64 Docs/s]\u001b[A\n",
      "Create embeddings:  40%|██████████████████████▌                                  | 640/1616 [02:20<03:28,  4.68 Docs/s]\u001b[A\n",
      "Create embeddings:  41%|███████████████████████▏                                 | 656/1616 [02:23<03:26,  4.65 Docs/s]\u001b[A\n",
      "Create embeddings:  42%|███████████████████████▋                                 | 672/1616 [02:27<03:21,  4.68 Docs/s]\u001b[A\n",
      "Create embeddings:  43%|████████████████████████▎                                | 688/1616 [02:30<03:19,  4.65 Docs/s]\u001b[A\n",
      "Create embeddings:  44%|████████████████████████▊                                | 704/1616 [02:34<03:15,  4.67 Docs/s]\u001b[A\n",
      "Create embeddings:  45%|█████████████████████████▍                               | 720/1616 [02:37<03:12,  4.67 Docs/s]\u001b[A\n",
      "Create embeddings:  46%|█████████████████████████▉                               | 736/1616 [02:40<03:07,  4.68 Docs/s]\u001b[A\n",
      "Create embeddings:  47%|██████████████████████████▌                              | 752/1616 [02:44<03:06,  4.63 Docs/s]\u001b[A\n",
      "Create embeddings:  48%|███████████████████████████                              | 768/1616 [02:48<03:03,  4.61 Docs/s]\u001b[A\n",
      "Create embeddings:  49%|███████████████████████████▋                             | 784/1616 [02:51<02:59,  4.64 Docs/s]\u001b[A\n",
      "Create embeddings:  50%|████████████████████████████▏                            | 800/1616 [02:54<02:57,  4.59 Docs/s]\u001b[A\n",
      "Create embeddings:  50%|████████████████████████████▊                            | 816/1616 [02:58<02:56,  4.54 Docs/s]\u001b[A\n",
      "Create embeddings:  51%|█████████████████████████████▎                           | 832/1616 [03:02<02:54,  4.49 Docs/s]\u001b[A\n",
      "Create embeddings:  52%|█████████████████████████████▉                           | 848/1616 [03:05<02:52,  4.45 Docs/s]\u001b[A\n",
      "Create embeddings:  53%|██████████████████████████████▍                          | 864/1616 [03:09<02:49,  4.44 Docs/s]\u001b[A\n",
      "Create embeddings:  54%|███████████████████████████████                          | 880/1616 [03:13<02:44,  4.47 Docs/s]\u001b[A\n",
      "Create embeddings:  55%|███████████████████████████████▌                         | 896/1616 [03:16<02:40,  4.48 Docs/s]\u001b[A\n",
      "Create embeddings:  56%|████████████████████████████████▏                        | 912/1616 [03:20<02:36,  4.51 Docs/s]\u001b[A\n",
      "Create embeddings:  57%|████████████████████████████████▋                        | 928/1616 [03:23<02:30,  4.57 Docs/s]\u001b[A\n",
      "Create embeddings:  58%|█████████████████████████████████▎                       | 944/1616 [03:26<02:26,  4.59 Docs/s]\u001b[A\n",
      "Create embeddings:  59%|█████████████████████████████████▊                       | 960/1616 [03:30<02:22,  4.61 Docs/s]\u001b[A\n",
      "Create embeddings:  60%|██████████████████████████████████▍                      | 976/1616 [03:33<02:19,  4.59 Docs/s]\u001b[A\n",
      "Create embeddings:  61%|██████████████████████████████████▉                      | 992/1616 [03:37<02:15,  4.61 Docs/s]\u001b[A\n",
      "Create embeddings:  62%|██████████████████████████████████▉                     | 1008/1616 [03:40<02:09,  4.70 Docs/s]\u001b[A\n",
      "Create embeddings:  63%|███████████████████████████████████▍                    | 1024/1616 [03:44<02:06,  4.68 Docs/s]\u001b[A\n",
      "Create embeddings:  64%|████████████████████████████████████                    | 1040/1616 [03:47<02:04,  4.62 Docs/s]\u001b[A\n",
      "Create embeddings:  65%|████████████████████████████████████▌                   | 1056/1616 [03:51<02:00,  4.65 Docs/s]\u001b[A\n",
      "Create embeddings:  66%|█████████████████████████████████████▏                  | 1072/1616 [03:54<01:57,  4.63 Docs/s]\u001b[A\n",
      "Create embeddings:  67%|█████████████████████████████████████▋                  | 1088/1616 [03:57<01:52,  4.68 Docs/s]\u001b[A\n",
      "Create embeddings:  68%|██████████████████████████████████████▎                 | 1104/1616 [04:01<01:49,  4.68 Docs/s]\u001b[A\n",
      "Create embeddings:  69%|██████████████████████████████████████▊                 | 1120/1616 [04:04<01:46,  4.67 Docs/s]\u001b[A\n",
      "Create embeddings:  70%|███████████████████████████████████████▎                | 1136/1616 [04:08<01:42,  4.69 Docs/s]\u001b[A\n",
      "Create embeddings:  71%|███████████████████████████████████████▉                | 1152/1616 [04:11<01:39,  4.67 Docs/s]\u001b[A\n",
      "Create embeddings:  72%|████████████████████████████████████████▍               | 1168/1616 [04:14<01:35,  4.68 Docs/s]\u001b[A\n",
      "Create embeddings:  73%|█████████████████████████████████████████               | 1184/1616 [04:18<01:32,  4.67 Docs/s]\u001b[A\n",
      "Create embeddings:  74%|█████████████████████████████████████████▌              | 1200/1616 [04:21<01:29,  4.65 Docs/s]\u001b[A\n",
      "Create embeddings:  75%|██████████████████████████████████████████▏             | 1216/1616 [04:25<01:26,  4.64 Docs/s]\u001b[A\n",
      "Create embeddings:  76%|██████████████████████████████████████████▋             | 1232/1616 [04:28<01:22,  4.64 Docs/s]\u001b[A\n",
      "Create embeddings:  77%|███████████████████████████████████████████▏            | 1248/1616 [04:32<01:19,  4.64 Docs/s]\u001b[A\n",
      "Create embeddings:  78%|███████████████████████████████████████████▊            | 1264/1616 [04:35<01:16,  4.60 Docs/s]\u001b[A\n",
      "Create embeddings:  79%|████████████████████████████████████████████▎           | 1280/1616 [04:39<01:12,  4.64 Docs/s]\u001b[A\n",
      "Create embeddings:  80%|████████████████████████████████████████████▉           | 1296/1616 [04:42<01:08,  4.64 Docs/s]\u001b[A\n",
      "Create embeddings:  81%|█████████████████████████████████████████████▍          | 1312/1616 [04:46<01:05,  4.64 Docs/s]\u001b[A\n",
      "Create embeddings:  82%|██████████████████████████████████████████████          | 1328/1616 [04:49<01:02,  4.63 Docs/s]\u001b[A\n",
      "Create embeddings:  83%|██████████████████████████████████████████████▌         | 1344/1616 [04:52<00:58,  4.67 Docs/s]\u001b[A\n",
      "Create embeddings:  84%|███████████████████████████████████████████████▏        | 1360/1616 [04:56<00:54,  4.68 Docs/s]\u001b[A\n",
      "Create embeddings:  85%|███████████████████████████████████████████████▋        | 1376/1616 [04:59<00:51,  4.66 Docs/s]\u001b[A\n",
      "Create embeddings:  86%|████████████████████████████████████████████████▏       | 1392/1616 [05:03<00:47,  4.69 Docs/s]\u001b[A\n",
      "Create embeddings:  87%|████████████████████████████████████████████████▊       | 1408/1616 [05:06<00:44,  4.70 Docs/s]\u001b[A\n",
      "Create embeddings:  88%|█████████████████████████████████████████████████▎      | 1424/1616 [05:09<00:40,  4.72 Docs/s]\u001b[A\n",
      "Create embeddings:  89%|█████████████████████████████████████████████████▉      | 1440/1616 [05:13<00:37,  4.71 Docs/s]\u001b[A\n",
      "Create embeddings:  90%|██████████████████████████████████████████████████▍     | 1456/1616 [05:16<00:34,  4.68 Docs/s]\u001b[A\n",
      "Create embeddings:  91%|███████████████████████████████████████████████████     | 1472/1616 [05:20<00:30,  4.68 Docs/s]\u001b[A\n",
      "Create embeddings:  92%|███████████████████████████████████████████████████▌    | 1488/1616 [05:23<00:27,  4.65 Docs/s]\u001b[A\n",
      "Create embeddings:  93%|████████████████████████████████████████████████████    | 1504/1616 [05:27<00:23,  4.67 Docs/s]\u001b[A\n",
      "Create embeddings:  94%|████████████████████████████████████████████████████▋   | 1520/1616 [05:30<00:20,  4.66 Docs/s]\u001b[A\n",
      "Create embeddings:  95%|█████████████████████████████████████████████████████▏  | 1536/1616 [05:33<00:17,  4.67 Docs/s]\u001b[A\n",
      "Create embeddings:  96%|█████████████████████████████████████████████████████▊  | 1552/1616 [05:37<00:13,  4.67 Docs/s]\u001b[A\n",
      "Create embeddings:  97%|██████████████████████████████████████████████████████▎ | 1568/1616 [05:40<00:10,  4.62 Docs/s]\u001b[A\n",
      "Create embeddings:  98%|██████████████████████████████████████████████████████▉ | 1584/1616 [05:44<00:06,  4.59 Docs/s]\u001b[A\n",
      "Create embeddings:  99%|███████████████████████████████████████████████████████▍| 1600/1616 [05:47<00:03,  4.60 Docs/s]\u001b[A\n",
      "Create embeddings: 100%|████████████████████████████████████████████████████████| 1616/1616 [05:51<00:00,  4.69 Docs/s]\u001b[A\n",
      "Updating embeddings: 10000 Docs [05:57, 27.98 Docs/s]                                                                  \u001b[A\n"
     ]
    }
   ],
   "source": [
    "document_store.update_embeddings(retriever=dpr_retriever)"
   ]
  },
  {
   "cell_type": "code",
   "execution_count": 43,
   "id": "ac1390f8-5470-4984-9e92-054fef05cef9",
   "metadata": {},
   "outputs": [],
   "source": [
    "dpr_topk_df = evaluate_retriever(dpr_retriever)"
   ]
  },
  {
   "cell_type": "code",
   "execution_count": 44,
   "id": "eb5bfa36-29b5-428e-8950-75067be4db08",
   "metadata": {},
   "outputs": [
    {
     "data": {
      "image/png": "[encoded data removed]",
      "text/plain": [
       "<Figure size 640x480 with 1 Axes>"
      ]
     },
     "metadata": {},
     "output_type": "display_data"
    }
   ],
   "source": [
    "plot_retriever_eval([es_topk_df, dpr_topk_df], [\"BM25\", \"DPR\"])"
   ]
  },
  {
   "cell_type": "markdown",
   "id": "b024747a-2231-4600-bc70-8f415f234e62",
   "metadata": {},
   "source": [
    "## Evaluating the Reader"
   ]
  },
  {
   "cell_type": "code",
   "execution_count": 45,
   "id": "6cb4324d-bf9a-4130-9f6a-e4af8c1d045b",
   "metadata": {},
   "outputs": [
    {
     "name": "stdout",
     "output_type": "stream",
     "text": [
      "EM: 0\n",
      "F1: 0.8\n"
     ]
    }
   ],
   "source": [
    "from haystack.modeling.evaluation.squad import compute_f1, compute_exact\n",
    "\n",
    "pred = \"about 6000 hours\"\n",
    "label = \"6000 hours\"\n",
    "print(f\"EM: {compute_exact(label, pred)}\")\n",
    "print(f\"F1: {compute_f1(label, pred)}\")"
   ]
  },
  {
   "cell_type": "code",
   "execution_count": 46,
   "id": "595c48d9-d9ae-44b9-85ce-28f908f80cc5",
   "metadata": {},
   "outputs": [
    {
     "name": "stdout",
     "output_type": "stream",
     "text": [
      "EM: 0\n",
      "F1: 0.4\n"
     ]
    }
   ],
   "source": [
    "pred = \"about 6000 dollars\"\n",
    "print(f\"EM: {compute_exact(label, pred)}\")\n",
    "print(f\"F1: {compute_f1(label, pred)}\")"
   ]
  },
  {
   "cell_type": "code",
   "execution_count": null,
   "id": "1e2612a1-a540-4f99-9ac5-de122ccce712",
   "metadata": {},
   "outputs": [],
   "source": [
    "from haystack.pipelines import Pipeline\n",
    "\n",
    "def evaluate_reader(reader):\n",
    "    score_keys = ['exact_match', 'f1']\n",
    "    p = Pipeline()\n",
    "    p.add_node(component=reader, name=\"Reader\", inputs=[\"Query\"])\n",
    "    eval_result = p.eval(\n",
    "        labels=labels_agg,\n",
    "        documents= [[label.document for label in multilabel.labels] for multilabel in labels_agg],\n",
    "        params={},\n",
    "    )\n",
    "    metrics = eval_result.calculate_metrics(simulated_top_k_reader=1)\n",
    "                \n",
    "    return {k:v for k,v in metrics[\"Reader\"].items() if k in score_keys}\n",
    "\n",
    "reader_eval = {}\n",
    "reader_eval[\"Fine-tune on SQuAD\"] = evaluate_reader(reader)"
   ]
  },
  {
   "cell_type": "code",
   "execution_count": 48,
   "id": "02bdc0d8-69c9-4db5-b5be-d615e6b0f2fb",
   "metadata": {},
   "outputs": [
    {
     "data": {
      "image/png": "[encoded data removed]",
      "text/plain": [
       "<Figure size 640x480 with 1 Axes>"
      ]
     },
     "metadata": {},
     "output_type": "display_data"
    }
   ],
   "source": [
    "def plot_reader_eval(reader_eval):\n",
    "    fig, ax = plt.subplots()\n",
    "    df = pd.DataFrame.from_dict(reader_eval)\n",
    "    df.plot(kind=\"bar\", ylabel=\"Score\", rot=0, ax=ax)\n",
    "    ax.set_xticklabels([\"EM\", \"F1\"])\n",
    "    plt.legend(loc='upper left')\n",
    "    plt.show()\n",
    "\n",
    "plot_reader_eval(reader_eval)\n",
    "\n",
    "# the fine-tuned model performs significantly worse on SubjQA than on SQuAD 2.0"
   ]
  },
  {
   "cell_type": "markdown",
   "id": "4146c6ff-14a1-4fc3-8605-f79c5f5896ec",
   "metadata": {},
   "source": [
    "## Domain Adaptation"
   ]
  },
  {
   "cell_type": "code",
   "execution_count": 50,
   "id": "f397b7c2-7905-4042-8a8e-368bd3539797",
   "metadata": {},
   "outputs": [
    {
     "data": {
      "text/plain": [
       "[{'qas': [{'question': 'How is the bass?',\n",
       "    'id': '2543d296da9766d8d17d040ecc781699',\n",
       "    'is_impossible': True,\n",
       "    'answers': []}],\n",
       "  'context': 'I have had Koss headphones in the past, Pro 4AA and QZ-99.  The Koss Portapro is portable AND has great bass response.  The work great with my Android phone and can be \"rolled up\" to be carried in my motorcycle jacket or computer bag without getting crunched.  They are very light and do not feel heavy or bear down on your ears even after listening to music with them on all day.  The sound is night and day better than any ear-bud could be and are almost as good as the Pro 4AA.  They are \"open air\" headphones so you cannot match the bass to the sealed types, but it comes close. For $32, you cannot go wrong.'},\n",
       " {'qas': [{'question': 'Is this music song have a goo bass?',\n",
       "    'id': 'd476830bf9282e2b9033e2bb44bbb995',\n",
       "    'is_impossible': False,\n",
       "    'answers': [{'text': 'Bass is weak as expected', 'answer_start': 1302},\n",
       "     {'text': 'Bass is weak as expected, even with EQ adjusted up',\n",
       "      'answer_start': 1302}]}],\n",
       "  'context': 'To anyone who hasn\\'t tried all the various types of headphones, it is important to remember exactly what these are: cheap portable on-ear headphones. They give a totally different sound then in-ears or closed design phones, but for what they are I would say they\\'re good. I currently own six pairs of phones, from stock apple earbuds to Sennheiser HD 518s. Gave my Portapros a run on both my computer\\'s sound card and mp3 player, using 256 kbps mp3s or better. The clarity is good and they\\'re very lightweight. The folding design is simple but effective. The look is certainly retro and unique, although I didn\\'t find it as comfortable as many have claimed. Earpads are *very* thin and made my ears sore after 30 minutes of listening, although this can be remedied to a point by adjusting the \"comfort zone\" feature (tightening the temple pads while loosening the ear pads). The cord seems to be an average thickness, but I wouldn\\'t get too rough with these. The steel headband adjusts smoothly and easily, just watch out that the slider doesn\\'t catch your hair. Despite the sore ears, the phones are very lightweight overall.Back to the sound: as you would expect, it\\'s good for a portable phone, but hardly earth shattering. At flat EQ the clarity is good, although the highs can sometimes be harsh. Bass is weak as expected, even with EQ adjusted up. To be fair, a portable on-ear would have a tough time comparing to the bass of an in-ear with a good seal or a pair with larger drivers. No sound isolation offered if you\\'re into that sort of thing. Cool 80s phones, though I\\'ve certainly owned better portable on-ears (Sony makes excellent phones in this category). Soundstage is very narrow and lacks body. A good value if you can get them for under thirty, otherwise I\\'d rather invest in a nicer pair of phones. If we\\'re talking about value, they\\'re a good buy compared to new stock apple buds. If you\\'re trying to compare the sound quality of this product to serious headphones, there\\'s really no comparison at all.Update: After 100 hours of burn-in time the sound has not been affected in any appreciable way. Highs are still harsh, and bass is still underwhelming. I sometimes use these as a convenience but they have been largely replaced in my collection.'},\n",
       " {'qas': [{'question': 'How is the bass?',\n",
       "    'id': '455575557886d6dfeea5aa19577e5de4',\n",
       "    'is_impossible': False,\n",
       "    'answers': [{'text': 'The only fault in the sound is the bass',\n",
       "      'answer_start': 650}]}],\n",
       "  'context': \"I have had many sub-$100 headphones from $5 Panasonic to $100 Sony, with Sennheiser HD 433, 202, PX100 II (I really wanted to like these PX100-II, they were so very well designed), and even a Grado SR60 for awhile.  And what it basically comes down to is value.  I have never heard sound as good as these headphones in the $35 range, easily the best under $75.  I can't believe they're over 25 years old.It's hard to describe how much detail these headphones bring out without making it too harsh or dull.  I listen to every type of music from classical to hip hop to electronic to country, and these headphones are suitable for all types of music.  The only fault in the sound is the bass.  It's just a *slight* bit boomy, but you get to like it after a while to be honest.The design is from the 80s as you all have probably figured out.  It could use a update but it seems like Koss has tried to perfect this formula and failed in the past.  I don't really care about the looks or the way it folds up or the fact that my hair gets caught up in it (I have very short hair, even for a male).But despite it's design flaws, it's the most comfortable headphones I have ever worn, and the best part is that it's also the best sounding pair of headphones I have ever heard under $75.If you can get over the design flaws or if sound is the most important feature of headphones for you, there is nothing even close to this at this price range.This one is an absolute GEM.  I loved these so much I ordered two of the 25th Anniversary ones for a bit more.Update: I read some reviews about the PX100-II being much improved and better sounding than the PortaPro.  Since the PX100-II is relatively new, I thought I'd give it another listen.  This time I noticed something different.  The sound is warm, mellow, and neutral, but it loses a lot of detail at the expense of these attributes.  I still prefer higher-detail Portapro, but some may prefer the more mellow sound of the PX100-II.Oh by the way the Portapro comes in the straight plug now, not the angled plug anymore.  It's supposed to be for better compatibility with the iPods and iPhones out there.\"}]"
      ]
     },
     "execution_count": 50,
     "metadata": {},
     "output_type": "execute_result"
    }
   ],
   "source": [
    "def create_paragraphs(df):\n",
    "    paragraphs = []\n",
    "    id2context = dict(zip(df[\"review_id\"], df[\"context\"]))\n",
    "    for review_id, review in id2context.items():\n",
    "        qas = []\n",
    "        # Filter for all question-answer pairs about a specific context\n",
    "        review_df = df.query(f\"review_id == '{review_id}'\")\n",
    "        id2question = dict(zip(review_df[\"id\"], review_df[\"question\"]))\n",
    "        # Build up the qas array\n",
    "        for qid, question in id2question.items():\n",
    "            # Filter for a single question ID\n",
    "            question_df = df.query(f\"id == '{qid}'\").to_dict(orient=\"list\")\n",
    "            ans_start_idxs = question_df[\"answers.answer_start\"][0].tolist()\n",
    "            ans_text = question_df[\"answers.text\"][0].tolist()\n",
    "            # Fill answerable questions\n",
    "            if len(ans_start_idxs):\n",
    "                answers = [\n",
    "                    {\"text\": text, \"answer_start\": answer_start}\n",
    "                    for text, answer_start in zip(ans_text, ans_start_idxs)]\n",
    "                is_impossible = False\n",
    "            else:\n",
    "                answers = []\n",
    "                is_impossible = True\n",
    "            # Add question-answer pairs to qas\n",
    "            qas.append(\n",
    "                {\"question\": question, \"id\": qid, \"is_impossible\": is_impossible, \"answers\": answers}\n",
    "            )\n",
    "        # Add context and question-answer pairs to paragraphs\n",
    "        paragraphs.append({\"qas\": qas, \"context\": review})\n",
    "    return paragraphs\n",
    "\n",
    "product = dfs[\"train\"].query(\"title == 'B00001P4ZH'\")\n",
    "create_paragraphs(product)"
   ]
  },
  {
   "cell_type": "code",
   "execution_count": 56,
   "id": "e3c213bc-90cf-4aca-bd69-819516852357",
   "metadata": {},
   "outputs": [],
   "source": [
    "import json\n",
    "\n",
    "def convert_to_squad(dfs):\n",
    "    for split, df in dfs.items():\n",
    "        subjqa_data = {}\n",
    "        # Create paragraphs for each product\n",
    "        groups = (df.groupby(\"title\").apply(create_paragraphs).to_frame(name=\"paragraphs\").reset_index())\n",
    "        subjqa_data[\"data\"] = groups.to_dict(orient=\"records\")\n",
    "        # Save the result to disk\n",
    "        with open(f\"electronics-{split}.json\", \"w+\", encoding=\"utf-8\") as f:\n",
    "            json.dump(subjqa_data, f)\n",
    "\n",
    "convert_to_squad(dfs)"
   ]
  },
  {
   "cell_type": "code",
   "execution_count": 57,
   "id": "0a73aff7-14ed-4a4a-94b8-704c7b1f3c48",
   "metadata": {},
   "outputs": [
    {
     "name": "stderr",
     "output_type": "stream",
     "text": [
      "INFO - haystack.modeling.utils -  Using devices: CPU\n",
      "INFO - haystack.modeling.utils -  Number of GPUs: 0\n",
      "INFO - haystack.modeling.data_handler.data_silo -  \n",
      "Loading data into the data silo ... \n",
      "              ______\n",
      "               |o  |   !\n",
      "   __          |:`_|---'-.\n",
      "  |__|______.-/ _ \\-----.|       \n",
      " (o)(o)------'\\ _ /     ( )      \n",
      " \n",
      "INFO - haystack.modeling.data_handler.data_silo -  LOADING TRAIN DATA\n",
      "INFO - haystack.modeling.data_handler.data_silo -  ==================\n",
      "INFO - haystack.modeling.data_handler.data_silo -  Loading train set from: electronics-train.json \n",
      "INFO - haystack.modeling.data_handler.data_silo -  Got ya 31 parallel workers to convert 1265 dictionaries to pytorch datasets (chunksize = 9)...\n",
      "INFO - haystack.modeling.data_handler.data_silo -   0     0     0     0     0     0     0     0     0     0     0     0     0     0     0     0     0     0     0     0     0     0     0     0     0     0     0     0     0     0     0  \n",
      "INFO - haystack.modeling.data_handler.data_silo -  /w\\   /w\\   /w\\   /w\\   /w\\   /w\\   /w\\   /|\\  /w\\   /w\\   /w\\   /w\\   /w\\   /w\\   /|\\  /w\\   /|\\  /|\\  /|\\  /|\\  /w\\   /w\\   /|\\  /|\\  /w\\   /w\\   /w\\   /w\\   /w\\   /w\\   /|\\\n",
      "INFO - haystack.modeling.data_handler.data_silo -  /'\\   / \\   /'\\   /'\\   / \\   / \\   /'\\   /'\\   /'\\   /'\\   /'\\   /'\\   / \\   /'\\   /'\\   / \\   /'\\   /'\\   /'\\   /'\\   / \\   / \\   /'\\   /'\\   / \\   / \\   / \\   /'\\   /'\\   /'\\   /'\\ \n",
      "Preprocessing Dataset electronics-train.json: 100%|███████████████████████████| 1265/1265 [00:12<00:00, 100.80 Dicts/s]\n",
      "ERROR - haystack.modeling.data_handler.processor -  Unable to convert 5 samples to features. Their ids are : 471-0-0, 572-0-0, 1167-0-0, 1099-0-0, 595-0-0\n",
      "INFO - haystack.modeling.data_handler.data_silo -  \n",
      "INFO - haystack.modeling.data_handler.data_silo -  LOADING DEV DATA\n",
      "INFO - haystack.modeling.data_handler.data_silo -  =================\n",
      "INFO - haystack.modeling.data_handler.data_silo -  Loading dev set from: electronics-validation.json\n",
      "INFO - haystack.modeling.data_handler.data_silo -  Got ya 31 parallel workers to convert 252 dictionaries to pytorch datasets (chunksize = 4)...\n",
      "INFO - haystack.modeling.data_handler.data_silo -   0     0     0     0     0     0     0     0     0     0     0     0     0     0     0     0     0     0     0     0     0     0     0     0     0     0     0     0     0     0     0  \n",
      "INFO - haystack.modeling.data_handler.data_silo -  /w\\   /|\\  /|\\  /w\\   /|\\  /w\\   /w\\   /w\\   /w\\   /w\\   /w\\   /w\\   /w\\   /w\\   /w\\   /|\\  /w\\   /|\\  /|\\  /|\\  /w\\   /|\\  /w\\   /|\\  /w\\   /w\\   /w\\   /w\\   /w\\   /|\\  /w\\ \n",
      "INFO - haystack.modeling.data_handler.data_silo -  /'\\   /'\\   /'\\   /'\\   /'\\   /'\\   /'\\   / \\   /'\\   / \\   /'\\   /'\\   / \\   / \\   /'\\   /'\\   / \\   /'\\   /'\\   /'\\   / \\   /'\\   / \\   /'\\   /'\\   /'\\   / \\   /'\\   /'\\   /'\\   / \\ \n",
      "Preprocessing Dataset electronics-validation.json: 100%|█████████████████████████| 252/252 [00:11<00:00, 21.87 Dicts/s]\n",
      "INFO - haystack.modeling.data_handler.data_silo -  \n",
      "INFO - haystack.modeling.data_handler.data_silo -  LOADING TEST DATA\n",
      "INFO - haystack.modeling.data_handler.data_silo -  =================\n",
      "INFO - haystack.modeling.data_handler.data_silo -  No test set is being loaded\n",
      "INFO - haystack.modeling.data_handler.data_silo -  \n",
      "INFO - haystack.modeling.data_handler.data_silo -  DATASETS SUMMARY\n",
      "INFO - haystack.modeling.data_handler.data_silo -  ================\n",
      "INFO - haystack.modeling.data_handler.data_silo -  Examples in train: 2613\n",
      "INFO - haystack.modeling.data_handler.data_silo -  Examples in dev  : 524\n",
      "INFO - haystack.modeling.data_handler.data_silo -  Examples in test : 0\n",
      "INFO - haystack.modeling.data_handler.data_silo -  Total examples   : 3137\n",
      "INFO - haystack.modeling.data_handler.data_silo -  \n",
      "INFO - haystack.modeling.data_handler.data_silo -  Longest sequence length observed after clipping:     384\n",
      "INFO - haystack.modeling.data_handler.data_silo -  Average sequence length after clipping: 290.2606199770379\n",
      "INFO - haystack.modeling.data_handler.data_silo -  Proportion clipped:      0.507079984691925\n",
      "INFO - haystack.modeling.data_handler.data_silo -  [Haystack Tip] 50.7% of your samples got cut down to 384 tokens. Consider increasing max_seq_len. This will lead to higher memory consumption but is likely to improve your model performance\n",
      "INFO - haystack.modeling.model.optimization -  Loading optimizer `AdamW`: '{'correct_bias': False, 'weight_decay': 0.01, 'lr': 1e-05}'\n",
      "INFO - haystack.modeling.model.optimization -  Using scheduler 'get_linear_schedule_with_warmup'\n",
      "INFO - haystack.modeling.model.optimization -  Loading schedule `get_linear_schedule_with_warmup`: '{'num_training_steps': 164, 'num_warmup_steps': 32}'\n",
      "INFO - haystack.reader.farm -  Saving reader model to ..\\..\\saved_models\\deepset\\minilm-uncased-squad2\n"
     ]
    }
   ],
   "source": [
    "train_filename = \"electronics-train.json\"\n",
    "dev_filename = \"electronics-validation.json\"\n",
    "\n",
    "reader.train(data_dir=\".\", use_gpu=True, n_epochs=1, batch_size=16,\n",
    "             train_filename=train_filename, dev_filename=dev_filename)"
   ]
  },
  {
   "cell_type": "code",
   "execution_count": null,
   "id": "67ff0023-8cd2-408c-9756-5b533d6c89f5",
   "metadata": {},
   "outputs": [],
   "source": [
    "reader_eval[\"Fine-tune on SQuAD + SubjQA\"] = evaluate_reader(reader)"
   ]
  },
  {
   "cell_type": "code",
   "execution_count": 64,
   "id": "6e66c496-c647-49d8-b427-61912680e316",
   "metadata": {},
   "outputs": [
    {
     "data": {
      "image/png": "[encoded data removed]",
      "text/plain": [
       "<Figure size 640x480 with 1 Axes>"
      ]
     },
     "metadata": {},
     "output_type": "display_data"
    }
   ],
   "source": [
    "plot_reader_eval(reader_eval)"
   ]
  },
  {
   "cell_type": "code",
   "execution_count": 59,
   "id": "d317fd45-e166-481c-920c-e55f890e4025",
   "metadata": {},
   "outputs": [
    {
     "name": "stderr",
     "output_type": "stream",
     "text": [
      "INFO - haystack.modeling.utils -  Using devices: CPU\n",
      "INFO - haystack.modeling.utils -  Number of GPUs: 0\n",
      "INFO - haystack.modeling.model.language_model -  LOADING MODEL\n",
      "INFO - haystack.modeling.model.language_model -  =============\n",
      "INFO - haystack.modeling.model.language_model -  Could not find microsoft/MiniLM-L12-H384-uncased locally.\n",
      "INFO - haystack.modeling.model.language_model -  Looking on Transformers Model Hub (in local cache and online)...\n",
      "Downloading: 100%|█████████████████████████████████████████████████████████████████████| 385/385 [00:00<00:00, 257kB/s]\n",
      "Downloading: 100%|██████████████████████████████████████████████████████████████████| 127M/127M [00:18<00:00, 7.20MB/s]\n",
      "INFO - haystack.modeling.model.language_model -  Loaded microsoft/MiniLM-L12-H384-uncased\n",
      "Some weights of BertForQuestionAnswering were not initialized from the model checkpoint at microsoft/MiniLM-L12-H384-uncased and are newly initialized: ['qa_outputs.weight', 'qa_outputs.bias']\n",
      "You should probably TRAIN this model on a down-stream task to be able to use it for predictions and inference.\n",
      "Downloading: 100%|██████████████████████████████████████████████████████████████████| 226k/226k [00:00<00:00, 1.05MB/s]\n",
      "Downloading: 100%|█████████████████████████████████████████████████████████████████████| 112/112 [00:00<00:00, 112kB/s]\n",
      "Downloading: 100%|██████████████████████████████████████████████████████████████████| 2.00/2.00 [00:00<00:00, 2.01kB/s]\n",
      "INFO - haystack.modeling.utils -  Using devices: CPU\n",
      "INFO - haystack.modeling.utils -  Number of GPUs: 0\n",
      "INFO - haystack.modeling.infer -  Got ya 31 parallel workers to do inference ...\n",
      "INFO - haystack.modeling.infer -   0     0     0     0     0     0     0     0     0     0     0     0     0     0     0     0     0     0     0     0     0     0     0     0     0     0     0     0     0     0     0  \n",
      "INFO - haystack.modeling.infer -  /w\\   /w\\   /w\\   /w\\   /w\\   /w\\   /w\\   /|\\  /w\\   /w\\   /w\\   /w\\   /w\\   /w\\   /|\\  /w\\   /|\\  /|\\  /|\\  /|\\  /w\\   /w\\   /|\\  /|\\  /w\\   /w\\   /w\\   /w\\   /w\\   /w\\   /|\\\n",
      "INFO - haystack.modeling.infer -  /'\\   / \\   /'\\   /'\\   / \\   / \\   /'\\   /'\\   /'\\   /'\\   /'\\   /'\\   / \\   /'\\   /'\\   / \\   /'\\   /'\\   /'\\   /'\\   / \\   / \\   /'\\   /'\\   / \\   / \\   / \\   /'\\   /'\\   /'\\   /'\\ \n"
     ]
    }
   ],
   "source": [
    "minilm_ckpt = \"microsoft/MiniLM-L12-H384-uncased\"\n",
    "minilm_reader = FARMReader(model_name_or_path=minilm_ckpt, progress_bar=False,\n",
    "                           max_seq_len=max_seq_length, doc_stride=doc_stride,\n",
    "                           return_no_answer=True)"
   ]
  },
  {
   "cell_type": "code",
   "execution_count": 60,
   "id": "b8ef5d25-8779-4d08-94da-1a97f817ca76",
   "metadata": {},
   "outputs": [
    {
     "name": "stderr",
     "output_type": "stream",
     "text": [
      "INFO - haystack.modeling.utils -  Using devices: CPU\n",
      "INFO - haystack.modeling.utils -  Number of GPUs: 0\n",
      "INFO - haystack.modeling.data_handler.data_silo -  \n",
      "Loading data into the data silo ... \n",
      "              ______\n",
      "               |o  |   !\n",
      "   __          |:`_|---'-.\n",
      "  |__|______.-/ _ \\-----.|       \n",
      " (o)(o)------'\\ _ /     ( )      \n",
      " \n",
      "INFO - haystack.modeling.data_handler.data_silo -  LOADING TRAIN DATA\n",
      "INFO - haystack.modeling.data_handler.data_silo -  ==================\n",
      "INFO - haystack.modeling.data_handler.data_silo -  Loading train set from: electronics-train.json \n",
      "INFO - haystack.modeling.data_handler.data_silo -  Got ya 31 parallel workers to convert 1265 dictionaries to pytorch datasets (chunksize = 9)...\n",
      "INFO - haystack.modeling.data_handler.data_silo -   0     0     0     0     0     0     0     0     0     0     0     0     0     0     0     0     0     0     0     0     0     0     0     0     0     0     0     0     0     0     0  \n",
      "INFO - haystack.modeling.data_handler.data_silo -  /w\\   /w\\   /w\\   /w\\   /w\\   /w\\   /w\\   /|\\  /w\\   /w\\   /w\\   /w\\   /w\\   /w\\   /|\\  /w\\   /|\\  /|\\  /|\\  /|\\  /w\\   /w\\   /|\\  /|\\  /w\\   /w\\   /w\\   /w\\   /w\\   /w\\   /|\\\n",
      "INFO - haystack.modeling.data_handler.data_silo -  /'\\   / \\   /'\\   /'\\   / \\   / \\   /'\\   /'\\   /'\\   /'\\   /'\\   /'\\   / \\   /'\\   /'\\   / \\   /'\\   /'\\   /'\\   /'\\   / \\   / \\   /'\\   /'\\   / \\   / \\   / \\   /'\\   /'\\   /'\\   /'\\ \n",
      "Preprocessing Dataset electronics-train.json: 100%|███████████████████████████| 1265/1265 [00:11<00:00, 109.49 Dicts/s]\n",
      "ERROR - haystack.modeling.data_handler.processor -  Unable to convert 5 samples to features. Their ids are : 471-0-0, 572-0-0, 1167-0-0, 1099-0-0, 595-0-0\n",
      "INFO - haystack.modeling.data_handler.data_silo -  \n",
      "INFO - haystack.modeling.data_handler.data_silo -  LOADING DEV DATA\n",
      "INFO - haystack.modeling.data_handler.data_silo -  =================\n",
      "INFO - haystack.modeling.data_handler.data_silo -  Loading dev set from: electronics-validation.json\n",
      "INFO - haystack.modeling.data_handler.data_silo -  Got ya 31 parallel workers to convert 252 dictionaries to pytorch datasets (chunksize = 4)...\n",
      "INFO - haystack.modeling.data_handler.data_silo -   0     0     0     0     0     0     0     0     0     0     0     0     0     0     0     0     0     0     0     0     0     0     0     0     0     0     0     0     0     0     0  \n",
      "INFO - haystack.modeling.data_handler.data_silo -  /w\\   /|\\  /|\\  /w\\   /|\\  /w\\   /w\\   /w\\   /w\\   /w\\   /w\\   /w\\   /w\\   /w\\   /w\\   /|\\  /w\\   /|\\  /|\\  /|\\  /w\\   /|\\  /w\\   /|\\  /w\\   /w\\   /w\\   /w\\   /w\\   /|\\  /w\\ \n",
      "INFO - haystack.modeling.data_handler.data_silo -  /'\\   /'\\   /'\\   /'\\   /'\\   /'\\   /'\\   / \\   /'\\   / \\   /'\\   /'\\   / \\   / \\   /'\\   /'\\   / \\   /'\\   /'\\   /'\\   / \\   /'\\   / \\   /'\\   /'\\   /'\\   / \\   /'\\   /'\\   /'\\   / \\ \n",
      "Preprocessing Dataset electronics-validation.json: 100%|█████████████████████████| 252/252 [00:11<00:00, 22.51 Dicts/s]\n",
      "INFO - haystack.modeling.data_handler.data_silo -  \n",
      "INFO - haystack.modeling.data_handler.data_silo -  LOADING TEST DATA\n",
      "INFO - haystack.modeling.data_handler.data_silo -  =================\n",
      "INFO - haystack.modeling.data_handler.data_silo -  No test set is being loaded\n",
      "INFO - haystack.modeling.data_handler.data_silo -  \n",
      "INFO - haystack.modeling.data_handler.data_silo -  DATASETS SUMMARY\n",
      "INFO - haystack.modeling.data_handler.data_silo -  ================\n",
      "INFO - haystack.modeling.data_handler.data_silo -  Examples in train: 2613\n",
      "INFO - haystack.modeling.data_handler.data_silo -  Examples in dev  : 524\n",
      "INFO - haystack.modeling.data_handler.data_silo -  Examples in test : 0\n",
      "INFO - haystack.modeling.data_handler.data_silo -  Total examples   : 3137\n",
      "INFO - haystack.modeling.data_handler.data_silo -  \n",
      "INFO - haystack.modeling.data_handler.data_silo -  Longest sequence length observed after clipping:     384\n",
      "INFO - haystack.modeling.data_handler.data_silo -  Average sequence length after clipping: 290.2606199770379\n",
      "INFO - haystack.modeling.data_handler.data_silo -  Proportion clipped:      0.507079984691925\n",
      "INFO - haystack.modeling.data_handler.data_silo -  [Haystack Tip] 50.7% of your samples got cut down to 384 tokens. Consider increasing max_seq_len. This will lead to higher memory consumption but is likely to improve your model performance\n",
      "INFO - haystack.modeling.model.optimization -  Loading optimizer `AdamW`: '{'correct_bias': False, 'weight_decay': 0.01, 'lr': 1e-05}'\n",
      "INFO - haystack.modeling.model.optimization -  Using scheduler 'get_linear_schedule_with_warmup'\n",
      "INFO - haystack.modeling.model.optimization -  Loading schedule `get_linear_schedule_with_warmup`: '{'num_training_steps': 164, 'num_warmup_steps': 32}'\n",
      "INFO - haystack.reader.farm -  Saving reader model to ..\\..\\saved_models\\microsoft\\MiniLM-L12-H384-uncased\n"
     ]
    }
   ],
   "source": [
    "minilm_reader.train(data_dir=\".\", use_gpu=True, n_epochs=1, batch_size=16,\n",
    "                    train_filename=train_filename, dev_filename=dev_filename)"
   ]
  },
  {
   "cell_type": "code",
   "execution_count": null,
   "id": "f965a6f3-0302-4521-9b36-9b74427f8ef5",
   "metadata": {},
   "outputs": [],
   "source": [
    "reader_eval[\"Fine-tune on SubjQA\"] = evaluate_reader(minilm_reader)\n",
    "plot_reader_eval(reader_eval)"
   ]
  },
  {
   "cell_type": "code",
   "execution_count": 70,
   "id": "6171ee95-a786-4160-8c80-70dba169e960",
   "metadata": {},
   "outputs": [
    {
     "data": {
      "image/png": "[encoded data removed]",
      "text/plain": [
       "<Figure size 640x480 with 1 Axes>"
      ]
     },
     "metadata": {},
     "output_type": "display_data"
    }
   ],
   "source": [
    "plot_reader_eval(reader_eval)"
   ]
  },
  {
   "cell_type": "markdown",
   "id": "bc394371-8333-49df-93b8-e8a48c2c3cd4",
   "metadata": {},
   "source": [
    "# Evaluating the Whole QA Pipeline"
   ]
  },
  {
   "cell_type": "code",
   "execution_count": null,
   "id": "958f244b-eb9d-442b-895c-d1b8fca01e45",
   "metadata": {},
   "outputs": [],
   "source": [
    "from haystack.pipelines import ExtractiveQAPipeline\n",
    "pipe = ExtractiveQAPipeline(retriever=es_retriever, reader=reader)\n",
    "\n",
    "# Evaluate!\n",
    "eval_result = pipe.eval(\n",
    "    labels=labels_agg,\n",
    "    params={},\n",
    ")\n",
    "metrics = eval_result.calculate_metrics(simulated_top_k_reader=1)\n",
    "# Extract metrics from reader\n",
    "reader_eval[\"QA Pipeline (top-1)\"] = {\n",
    "    k:v for k,v in metrics[\"Reader\"].items()\n",
    "    if k in [\"exact_match\", \"f1\"]}"
   ]
  },
  {
   "cell_type": "code",
   "execution_count": 63,
   "id": "ceef7edc-20de-4313-a14e-cc5403913b2d",
   "metadata": {},
   "outputs": [
    {
     "data": {
      "image/png": "[encoded data removed]",
      "text/plain": [
       "<Figure size 640x480 with 1 Axes>"
      ]
     },
     "metadata": {},
     "output_type": "display_data"
    }
   ],
   "source": [
    "plot_reader_eval({\"Reader\": reader_eval[\"Fine-tune on SQuAD + SubjQA\"], \n",
    "                  \"QA pipeline (top-1)\": reader_eval[\"QA Pipeline (top-1)\"]})"
   ]
  },
  {
   "cell_type": "markdown",
   "id": "8a5de787-5755-4284-afb4-554147710093",
   "metadata": {},
   "source": [
    "## Going Beyond Extractive QA\n",
    "### Retrieval-Augmented Generation"
   ]
  },
  {
   "cell_type": "code",
   "execution_count": 65,
   "id": "33243482-c706-4ab7-99c1-9809e6c1e5d4",
   "metadata": {},
   "outputs": [
    {
     "name": "stderr",
     "output_type": "stream",
     "text": [
      "INFO - haystack.modeling.utils -  Using devices: CPU\n",
      "INFO - haystack.modeling.utils -  Number of GPUs: 0\n",
      "Downloading: 100%|████████████████████████████████████████████████████████████████| 4.49k/4.49k [00:00<00:00, 9.21MB/s]\n",
      "C:\\Users\\BarkY\\anaconda3\\envs\\pytorch-env\\lib\\site-packages\\transformers\\models\\bart\\configuration_bart.py:177: UserWarning: Please make sure the config includes `forced_bos_token_id=0` in future versions. The config can simply be saved and uploaded again to be fixed.\n",
      "  warnings.warn(\n",
      "Downloading: 100%|██████████████████████████████████████████████████████████████████| 226k/226k [00:00<00:00, 1.06MB/s]\n",
      "Downloading: 100%|█████████████████████████████████████████████████████████████████████| 112/112 [00:00<00:00, 112kB/s]\n",
      "Downloading: 100%|██████████████████████████████████████████████████████████████████| 48.0/48.0 [00:00<00:00, 48.0kB/s]\n",
      "The tokenizer class you load from this checkpoint is not the same type as the class this function is called from. It may result in unexpected tokenization. \n",
      "The tokenizer class you load from this checkpoint is 'RagTokenizer'. \n",
      "The class this function is called from is 'DPRQuestionEncoderTokenizer'.\n",
      "The tokenizer class you load from this checkpoint is not the same type as the class this function is called from. It may result in unexpected tokenization. \n",
      "The tokenizer class you load from this checkpoint is 'RagTokenizer'. \n",
      "The class this function is called from is 'DPRQuestionEncoderTokenizerFast'.\n",
      "Downloading: 100%|██████████████████████████████████████████████████████████████████| 878k/878k [00:00<00:00, 2.05MB/s]\n",
      "Downloading: 100%|██████████████████████████████████████████████████████████████████| 446k/446k [00:00<00:00, 1.38MB/s]\n",
      "Downloading: 100%|█████████████████████████████████████████████████████████████████████| 772/772 [00:00<00:00, 772kB/s]\n",
      "Downloading: 100%|██████████████████████████████████████████████████████████████████| 26.0/26.0 [00:00<00:00, 26.0kB/s]\n",
      "The tokenizer class you load from this checkpoint is not the same type as the class this function is called from. It may result in unexpected tokenization. \n",
      "The tokenizer class you load from this checkpoint is 'RagTokenizer'. \n",
      "The class this function is called from is 'BartTokenizer'.\n",
      "The tokenizer class you load from this checkpoint is not the same type as the class this function is called from. It may result in unexpected tokenization. \n",
      "The tokenizer class you load from this checkpoint is 'RagTokenizer'. \n",
      "The class this function is called from is 'BartTokenizerFast'.\n",
      "Downloading: 100%|████████████████████████████████████████████████████████████████| 1.92G/1.92G [05:42<00:00, 6.03MB/s]\n",
      "Some weights of RagTokenForGeneration were not initialized from the model checkpoint at facebook/rag-token-nq and are newly initialized: ['rag.generator.lm_head.weight']\n",
      "You should probably TRAIN this model on a down-stream task to be able to use it for predictions and inference.\n"
     ]
    }
   ],
   "source": [
    "from haystack.nodes import RAGenerator\n",
    "\n",
    "generator = RAGenerator(model_name_or_path=\"facebook/rag-token-nq\",\n",
    "                        embed_title=False, num_beams=5)"
   ]
  },
  {
   "cell_type": "code",
   "execution_count": 66,
   "id": "0ec3b76e-400e-41d3-9baf-6e0167db88c0",
   "metadata": {},
   "outputs": [],
   "source": [
    "from haystack.pipelines import GenerativeQAPipeline\n",
    "\n",
    "pipe = GenerativeQAPipeline(generator=generator, retriever=dpr_retriever)"
   ]
  },
  {
   "cell_type": "code",
   "execution_count": 67,
   "id": "1fdd8c15-a8d0-4ee1-9ea8-83f0b9f48d70",
   "metadata": {},
   "outputs": [],
   "source": [
    "def generate_answers(query, top_k_generator=3):\n",
    "    preds = pipe.run(query=query, \n",
    "                     params={\"Retriever\": {\"top_k\":5, \n",
    "                                  \"filters\":{\"item_id\": [\"B0074BW614\"]}},\n",
    "                             \"Generator\": {\"top_k\": top_k_generator}})  \n",
    "    print(f\"Question: {preds['query']} \\n\")\n",
    "    for idx in range(top_k_generator):\n",
    "        print(f\"Answer {idx+1}: {preds['answers'][idx].answer}\")"
   ]
  },
  {
   "cell_type": "code",
   "execution_count": 68,
   "id": "1495e0d7-3d79-4be2-89f5-a56c63c9cb30",
   "metadata": {},
   "outputs": [
    {
     "name": "stderr",
     "output_type": "stream",
     "text": [
      "C:\\Users\\BarkY\\anaconda3\\envs\\pytorch-env\\lib\\site-packages\\transformers\\models\\rag\\tokenization_rag.py:92: FutureWarning: `prepare_seq2seq_batch` is deprecated and will be removed in version 5 of 🤗 Transformers. Use the regular `__call__` method to prepare your inputs and the tokenizer under the `with_target_tokenizer` context manager to prepare your targets. See the documentation of your specific tokenizer for more details\n",
      "  warnings.warn(\n",
      "C:\\Users\\BarkY\\anaconda3\\envs\\pytorch-env\\lib\\site-packages\\transformers\\generation_utils.py:1747: UserWarning: `max_length` is deprecated in this function, use `stopping_criteria=StoppingCriteriaList(MaxLengthCriteria(max_length=max_length))` instead.\n",
      "  warnings.warn(\n"
     ]
    },
    {
     "name": "stdout",
     "output_type": "stream",
     "text": [
      "Question: Is it good for reading? \n",
      "\n",
      "Answer 1:  the screen is absolutely beautiful\n",
      "Answer 2:  the Screen is absolutely beautiful\n",
      "Answer 3:  Kindle fire\n"
     ]
    }
   ],
   "source": [
    "generate_answers(query)"
   ]
  },
  {
   "cell_type": "code",
   "execution_count": 69,
   "id": "ebf5e6f2-d813-4836-b7cf-208edf2a2aa4",
   "metadata": {},
   "outputs": [
    {
     "name": "stdout",
     "output_type": "stream",
     "text": [
      "Question: What is the main drawback? \n",
      "\n",
      "Answer 1:  the price\n",
      "Answer 2:  no flash support\n",
      "Answer 3:  the cost\n"
     ]
    }
   ],
   "source": [
    "generate_answers(\"What is the main drawback?\")"
   ]
  },
  {
   "cell_type": "code",
   "execution_count": null,
   "id": "229dae8c-2b56-4bd0-a804-5d2e49f4a6a1",
   "metadata": {},
   "outputs": [],
   "source": []
  }
 ],
 "metadata": {
  "kernelspec": {
   "display_name": "Python 3 (ipykernel)",
   "language": "python",
   "name": "python3"
  },
  "language_info": {
   "codemirror_mode": {
    "name": "ipython",
    "version": 3
   },
   "file_extension": ".py",
   "mimetype": "text/x-python",
   "name": "python",
   "nbconvert_exporter": "python",
   "pygments_lexer": "ipython3",
   "version": "3.9.16"
  }
 },
 "nbformat": 4,
 "nbformat_minor": 5
}
